{
 "cells": [
  {
   "cell_type": "markdown",
   "id": "784f40df",
   "metadata": {
    "ExecuteTime": {
     "end_time": "2022-05-10T14:52:36.286625Z",
     "start_time": "2022-05-10T14:52:36.278406Z"
    }
   },
   "source": [
    "# Main Notebook\n",
    "This Notebook contains all the code from all the other ones:\n",
    "- nothotsongs\n",
    "- 100hotsongs\n",
    "- spotipy_api_webscrapper\n",
    "- clustering_songs_from_dataframes"
   ]
  },
  {
   "cell_type": "markdown",
   "id": "8a277f1a",
   "metadata": {},
   "source": [
    "## Importing the Libraries"
   ]
  },
  {
   "cell_type": "code",
   "execution_count": null,
   "id": "3bf7379d",
   "metadata": {
    "ExecuteTime": {
     "end_time": "2022-05-11T07:40:56.874616Z",
     "start_time": "2022-05-11T07:40:56.867176Z"
    }
   },
   "outputs": [],
   "source": [
    "import pandas as pd\n",
    "import numpy as np\n",
    "import pprint\n",
    "import sys\n",
    "sys.path.insert(1, '/Users/Hector_Martin/Documents/Labs/music_recommender_project/config.py')\n",
    "import config\n",
    "import spotipy\n",
    "import json\n",
    "from spotipy.oauth2 import SpotifyClientCredentials\n",
    "from bs4 import BeautifulSoup\n",
    "import requests\n",
    "from sklearn.preprocessing import StandardScaler\n",
    "from sklearn.cluster import KMeans\n",
    "from sklearn.metrics import silhouette_score\n",
    "import pickle\n",
    "import functions\n",
    "%matplotlib inline"
   ]
  },
  {
   "cell_type": "markdown",
   "id": "a4797ac8",
   "metadata": {},
   "source": [
    "## Getting the Not Hot Songs DataFrame\n",
    "Let's obtain a DataFrame containing a list of worth +5000 songs from the past."
   ]
  },
  {
   "cell_type": "code",
   "execution_count": null,
   "id": "6c2cc73a",
   "metadata": {
    "ExecuteTime": {
     "end_time": "2022-05-11T07:40:57.407353Z",
     "start_time": "2022-05-11T07:40:56.879261Z"
    }
   },
   "outputs": [],
   "source": [
    "pd.set_option('display.max_columns', None)\n",
    "music = pd.read_csv('/Users/Hector_Martin/Documents/Labs/music_recommender_project/data/EvolutionPopUSA_MainData.csv')"
   ]
  },
  {
   "cell_type": "markdown",
   "id": "c0aef803",
   "metadata": {},
   "source": [
    "### Since the DataFrame consists of + 17000 songs, we are going to work with a fraction of the it"
   ]
  },
  {
   "cell_type": "code",
   "execution_count": null,
   "id": "e24bbedd",
   "metadata": {
    "ExecuteTime": {
     "end_time": "2022-05-11T07:40:57.452819Z",
     "start_time": "2022-05-11T07:40:57.409513Z"
    }
   },
   "outputs": [],
   "source": [
    "nothotsongs = music.sample(frac=0.3, replace=False, random_state=1)\n",
    "nothotsongs = nothotsongs[['artist_name', 'track_name']]"
   ]
  },
  {
   "cell_type": "markdown",
   "id": "f124df24",
   "metadata": {},
   "source": [
    "### Renaming the columns to keep consistency with the 100 Hot Songs DataFrame."
   ]
  },
  {
   "cell_type": "code",
   "execution_count": null,
   "id": "2629916e",
   "metadata": {
    "ExecuteTime": {
     "end_time": "2022-05-11T07:40:57.470567Z",
     "start_time": "2022-05-11T07:40:57.457282Z"
    }
   },
   "outputs": [],
   "source": [
    "nothotsongs = nothotsongs.rename(columns={'artist_name':'artists',\n",
    "                            'track_name':'songs', })\n",
    "nothotsongs = nothotsongs[['songs', 'artists']]\n",
    "nothotsongs"
   ]
  },
  {
   "cell_type": "markdown",
   "id": "f87e7ec1",
   "metadata": {},
   "source": [
    "### Storing the DataFrame into a csv file"
   ]
  },
  {
   "cell_type": "code",
   "execution_count": null,
   "id": "101075aa",
   "metadata": {
    "ExecuteTime": {
     "end_time": "2022-05-11T07:40:57.502700Z",
     "start_time": "2022-05-11T07:40:57.473657Z"
    }
   },
   "outputs": [],
   "source": [
    "nothotsongs.to_csv(\"data/nothotsongs.csv\", index=False)"
   ]
  },
  {
   "cell_type": "markdown",
   "id": "48c4969e",
   "metadata": {},
   "source": [
    "## Web Scrapping of 100 Hot Songs\n",
    "Our goal is to scrape the current top 100 songs present at https://www.billboard.com/charts/hot-100 and their respective artists, put the information into a pandas dataframe, and save the dataframe in a csv file in the current folder."
   ]
  },
  {
   "cell_type": "code",
   "execution_count": null,
   "id": "15137e41",
   "metadata": {
    "ExecuteTime": {
     "end_time": "2022-05-11T07:40:59.576756Z",
     "start_time": "2022-05-11T07:40:57.507456Z"
    }
   },
   "outputs": [],
   "source": [
    "hot100_df = functions.hot100(\"https://www.billboard.com/charts/hot-100/\")\n",
    "hot100_df"
   ]
  },
  {
   "cell_type": "markdown",
   "id": "fc6cf851",
   "metadata": {},
   "source": [
    "## Web Scrapping with Spotipy API\n",
    "\n",
    "In order to get all the audio feautures from all the songs we have, we are going to use this API. Our final goal will be to get 3 DataFrames containing the name of the songs, the artists and their respective audio features obtained from Spotify:\n",
    "- **100 Hot Songs DataFrame:** DataFrame cointaining the hottest 100 current mainstream hits\n",
    "- **Not Hot Songs DataFrame:** DataFrame containing an extensive list of songs from the past\n",
    "- **All Songs DataFrame:** DataFrame containing the content of the previous 2 ones"
   ]
  },
  {
   "cell_type": "markdown",
   "id": "2461b96c",
   "metadata": {},
   "source": [
    "### Reading the files to get the DataFrames:"
   ]
  },
  {
   "cell_type": "code",
   "execution_count": null,
   "id": "d421c64c",
   "metadata": {
    "ExecuteTime": {
     "end_time": "2022-05-11T07:40:59.622605Z",
     "start_time": "2022-05-11T07:40:59.582825Z"
    }
   },
   "outputs": [],
   "source": [
    "hotsongs = pd.read_csv('/Users/Hector_Martin/Documents/Labs/music_recommender_project/data/hot100.csv')\n",
    "nothotsongs = pd.read_csv('/Users/Hector_Martin/Documents/Labs/music_recommender_project/data/nothotsongs.csv')"
   ]
  },
  {
   "cell_type": "markdown",
   "id": "6c1ce55b",
   "metadata": {},
   "source": [
    "### Getting the list of hot songs:"
   ]
  },
  {
   "cell_type": "code",
   "execution_count": null,
   "id": "2571b2e7",
   "metadata": {
    "ExecuteTime": {
     "end_time": "2022-05-11T07:40:59.635003Z",
     "start_time": "2022-05-11T07:40:59.624980Z"
    }
   },
   "outputs": [],
   "source": [
    "hot_songs_list = [song for song in hotsongs['songs']]"
   ]
  },
  {
   "cell_type": "markdown",
   "id": "337f1e47",
   "metadata": {},
   "source": [
    "### Let's do the same with the Not Hot Songs:"
   ]
  },
  {
   "cell_type": "code",
   "execution_count": null,
   "id": "25280c75",
   "metadata": {
    "ExecuteTime": {
     "end_time": "2022-05-11T07:40:59.654628Z",
     "start_time": "2022-05-11T07:40:59.650692Z"
    }
   },
   "outputs": [],
   "source": [
    "not_hot_songs_list = [song for song in nothotsongs['songs']]"
   ]
  },
  {
   "cell_type": "markdown",
   "id": "13dad536",
   "metadata": {},
   "source": [
    "### Getting the audio features based on the lists of songs"
   ]
  },
  {
   "cell_type": "code",
   "execution_count": null,
   "id": "4d5e40c1",
   "metadata": {
    "ExecuteTime": {
     "start_time": "2022-05-11T07:40:56.898Z"
    }
   },
   "outputs": [],
   "source": [
    "hot_songs_af = functions.get_audio_features(hot_songs_list)\n",
    "not_hot_songs_af = functions.get_audio_features(not_hot_songs_list)"
   ]
  },
  {
   "cell_type": "markdown",
   "id": "29f70016",
   "metadata": {},
   "source": [
    "### Function to concatenate the Audio features to the song DataFrames"
   ]
  },
  {
   "cell_type": "code",
   "execution_count": null,
   "id": "a55e566a",
   "metadata": {
    "ExecuteTime": {
     "start_time": "2022-05-11T07:40:56.900Z"
    }
   },
   "outputs": [],
   "source": [
    "hotconcat_df = functions.add_audio_features(hotsongs, hot_songs_af, 'hot_songs')\n",
    "nothotconcat_df = functions.add_audio_features(nothotsongs, hot_songs_af, 'not_hot_songs')"
   ]
  },
  {
   "cell_type": "markdown",
   "id": "f8123c42",
   "metadata": {},
   "source": [
    "### Function to concatenate the Hot Songs DataFrame with the Not Hot Songs one"
   ]
  },
  {
   "cell_type": "code",
   "execution_count": null,
   "id": "c9ec4eec",
   "metadata": {
    "ExecuteTime": {
     "start_time": "2022-05-11T07:40:56.905Z"
    }
   },
   "outputs": [],
   "source": [
    "allsongs_df = functions.concatallsongs(hotconcat_df,nothotconcat_df,'allsongs_df')"
   ]
  },
  {
   "cell_type": "markdown",
   "id": "a3ac9405",
   "metadata": {},
   "source": [
    "## Clustering the songs from dataframes"
   ]
  },
  {
   "cell_type": "markdown",
   "id": "9d85e56a",
   "metadata": {},
   "source": [
    "### Importing the libraries"
   ]
  },
  {
   "cell_type": "code",
   "execution_count": null,
   "id": "819a836d",
   "metadata": {
    "ExecuteTime": {
     "start_time": "2022-05-11T07:40:56.908Z"
    }
   },
   "outputs": [],
   "source": [
    "all_songs = pd.read_csv('/Users/Hector_Martin/Documents/Labs/music_recommender_project/data/allsongs_df.csv')"
   ]
  },
  {
   "cell_type": "markdown",
   "id": "658f02a0",
   "metadata": {},
   "source": [
    "### Removing all the unnecessary audio features:\n",
    "These are not actually audio features, just links and other kind of information that has nothing to do with audio qualities."
   ]
  },
  {
   "cell_type": "code",
   "execution_count": null,
   "id": "ed9a1b32",
   "metadata": {
    "ExecuteTime": {
     "start_time": "2022-05-11T07:40:56.910Z"
    }
   },
   "outputs": [],
   "source": [
    "all_songs_clean = all_songs.drop(['analysis_url', 'id', 'uri', 'track_href', 'analysis_url', 'duration_ms', 'time_signature', 'type'],axis =1)"
   ]
  },
  {
   "cell_type": "markdown",
   "id": "bfe5168b",
   "metadata": {},
   "source": [
    "### Store this cleaned Dataframe in a csv file:"
   ]
  },
  {
   "cell_type": "code",
   "execution_count": null,
   "id": "463d2110",
   "metadata": {
    "ExecuteTime": {
     "start_time": "2022-05-11T07:40:56.913Z"
    }
   },
   "outputs": [],
   "source": [
    "all_songs_clean.to_csv(\"data/all_songs_clean.csv\", index=False)"
   ]
  },
  {
   "cell_type": "markdown",
   "id": "15d5f226",
   "metadata": {},
   "source": [
    "### Numerical and Categorical split:\n",
    "- X_num will be for Numerical columns\n",
    "- X_cat will be for Categorical ones"
   ]
  },
  {
   "cell_type": "code",
   "execution_count": null,
   "id": "14634d85",
   "metadata": {
    "ExecuteTime": {
     "start_time": "2022-05-11T07:40:56.915Z"
    }
   },
   "outputs": [],
   "source": [
    "X_num = all_songs_clean.drop(['songs', 'artists'], axis =1)"
   ]
  },
  {
   "cell_type": "code",
   "execution_count": null,
   "id": "3fc1e1f9",
   "metadata": {
    "ExecuteTime": {
     "start_time": "2022-05-11T07:40:56.916Z"
    }
   },
   "outputs": [],
   "source": [
    "X_cat = all_songs[['songs', 'artists']]"
   ]
  },
  {
   "cell_type": "markdown",
   "id": "b795ffa9",
   "metadata": {},
   "source": [
    "### Scaling the features"
   ]
  },
  {
   "cell_type": "code",
   "execution_count": null,
   "id": "e6c54568",
   "metadata": {
    "ExecuteTime": {
     "start_time": "2022-05-11T07:40:56.919Z"
    }
   },
   "outputs": [],
   "source": [
    "scaler = pickle.load(open(\"encoders/onehotencoder.pkl\",\"rb\"))\n",
    "X_scaled = scaler.transform(X_num)\n",
    "X_scaled_df = pd.DataFrame(X_scaled, columns = X_num.columns)\n",
    "print('Data before the transformation')\n",
    "print('------------------------------')\n",
    "display(X_num.head())\n",
    "print()\n",
    "print('Data after the transformation')\n",
    "print('------------------------------')\n",
    "display(X_scaled_df.head())"
   ]
  },
  {
   "cell_type": "markdown",
   "id": "be3b26da",
   "metadata": {},
   "source": [
    "### Training Models with different K values to assess which offers the best performance:"
   ]
  },
  {
   "cell_type": "code",
   "execution_count": null,
   "id": "60e9df21",
   "metadata": {
    "ExecuteTime": {
     "start_time": "2022-05-11T07:40:56.921Z"
    }
   },
   "outputs": [],
   "source": [
    "functions.k_means_trainer(X_scaled_df)"
   ]
  }
 ],
 "metadata": {
  "kernelspec": {
   "display_name": "Python 3 (ipykernel)",
   "language": "python",
   "name": "python3"
  },
  "language_info": {
   "codemirror_mode": {
    "name": "ipython",
    "version": 3
   },
   "file_extension": ".py",
   "mimetype": "text/x-python",
   "name": "python",
   "nbconvert_exporter": "python",
   "pygments_lexer": "ipython3",
   "version": "3.9.12"
  },
  "toc": {
   "base_numbering": 1,
   "nav_menu": {},
   "number_sections": true,
   "sideBar": true,
   "skip_h1_title": false,
   "title_cell": "Table of Contents",
   "title_sidebar": "Contents",
   "toc_cell": false,
   "toc_position": {},
   "toc_section_display": true,
   "toc_window_display": false
  }
 },
 "nbformat": 4,
 "nbformat_minor": 5
}
