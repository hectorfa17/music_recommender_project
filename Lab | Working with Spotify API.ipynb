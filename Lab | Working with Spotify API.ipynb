{
 "cells": [
  {
   "cell_type": "markdown",
   "id": "a4fc67d3",
   "metadata": {},
   "source": [
    "# Web Scrapping with Spotipy API\n",
    "\n",
    "In order to get all the audio feautures from all the songs we have, we are going to use this API. Our final goal will be to get 2 DataFrames containing the name of the songs, the artists and their respective audio features obtained from Spotify:\n",
    "- **100 Hot Songs DataFrame:** DataFrame cointaining the hottest 100 current mainstream hits\n",
    "- **Not Hot Songs DataFrame:** DataFrame containing an extensive list of songs from the past"
   ]
  },
  {
   "cell_type": "code",
   "execution_count": 3,
   "id": "bdc235c1",
   "metadata": {
    "ExecuteTime": {
     "end_time": "2022-05-10T09:42:44.784127Z",
     "start_time": "2022-05-10T09:42:40.805332Z"
    }
   },
   "outputs": [
    {
     "name": "stdout",
     "output_type": "stream",
     "text": [
      "Collecting spotipy\n",
      "  Using cached spotipy-2.19.0-py3-none-any.whl (27 kB)\n",
      "Requirement already satisfied: six>=1.15.0 in /opt/anaconda3/lib/python3.9/site-packages (from spotipy) (1.16.0)\n",
      "Requirement already satisfied: urllib3>=1.26.0 in /opt/anaconda3/lib/python3.9/site-packages (from spotipy) (1.26.7)\n",
      "Requirement already satisfied: requests>=2.25.0 in /opt/anaconda3/lib/python3.9/site-packages (from spotipy) (2.26.0)\n",
      "Requirement already satisfied: certifi>=2017.4.17 in /opt/anaconda3/lib/python3.9/site-packages (from requests>=2.25.0->spotipy) (2021.10.8)\n",
      "Requirement already satisfied: charset-normalizer~=2.0.0 in /opt/anaconda3/lib/python3.9/site-packages (from requests>=2.25.0->spotipy) (2.0.4)\n",
      "Requirement already satisfied: idna<4,>=2.5 in /opt/anaconda3/lib/python3.9/site-packages (from requests>=2.25.0->spotipy) (3.2)\n",
      "Installing collected packages: spotipy\n",
      "Successfully installed spotipy-2.19.0\n",
      "Note: you may need to restart the kernel to use updated packages.\n"
     ]
    }
   ],
   "source": [
    "pip install spotipy"
   ]
  },
  {
   "cell_type": "markdown",
   "id": "532b4f7a",
   "metadata": {},
   "source": [
    "## Importing the libraries"
   ]
  },
  {
   "cell_type": "code",
   "execution_count": 2,
   "id": "a56ee3a8",
   "metadata": {
    "ExecuteTime": {
     "end_time": "2022-05-10T09:41:07.791831Z",
     "start_time": "2022-05-10T09:41:05.852452Z"
    }
   },
   "outputs": [
    {
     "ename": "ModuleNotFoundError",
     "evalue": "No module named 'spotipy'",
     "output_type": "error",
     "traceback": [
      "\u001b[0;31m---------------------------------------------------------------------------\u001b[0m",
      "\u001b[0;31mModuleNotFoundError\u001b[0m                       Traceback (most recent call last)",
      "Input \u001b[0;32mIn [2]\u001b[0m, in \u001b[0;36m<cell line: 8>\u001b[0;34m()\u001b[0m\n\u001b[1;32m      6\u001b[0m sys\u001b[38;5;241m.\u001b[39mpath\u001b[38;5;241m.\u001b[39minsert(\u001b[38;5;241m1\u001b[39m, \u001b[38;5;124m'\u001b[39m\u001b[38;5;124m/Users/Hector_Martin/Documents/Labs/music_recommender_project/config.py\u001b[39m\u001b[38;5;124m'\u001b[39m)\n\u001b[1;32m      7\u001b[0m \u001b[38;5;28;01mfrom\u001b[39;00m \u001b[38;5;21;01mconfig\u001b[39;00m \u001b[38;5;28;01mimport\u001b[39;00m \u001b[38;5;241m*\u001b[39m\n\u001b[0;32m----> 8\u001b[0m \u001b[38;5;28;01mimport\u001b[39;00m \u001b[38;5;21;01mspotipy\u001b[39;00m\n\u001b[1;32m      9\u001b[0m \u001b[38;5;28;01mimport\u001b[39;00m \u001b[38;5;21;01mjson\u001b[39;00m\n\u001b[1;32m     10\u001b[0m \u001b[38;5;28;01mfrom\u001b[39;00m \u001b[38;5;21;01mspotipy\u001b[39;00m\u001b[38;5;21;01m.\u001b[39;00m\u001b[38;5;21;01moauth2\u001b[39;00m \u001b[38;5;28;01mimport\u001b[39;00m SpotifyClientCredentials\n",
      "\u001b[0;31mModuleNotFoundError\u001b[0m: No module named 'spotipy'"
     ]
    }
   ],
   "source": [
    "import pandas as pd\n",
    "import numpy as np\n",
    "import pprint\n",
    "import math\n",
    "import sys\n",
    "sys.path.insert(1, '/Users/Hector_Martin/Documents/Labs/music_recommender_project/config.py')\n",
    "from config import *\n",
    "import spotipy\n",
    "import json\n",
    "from spotipy.oauth2 import SpotifyClientCredentials"
   ]
  },
  {
   "cell_type": "markdown",
   "id": "72439c26",
   "metadata": {},
   "source": [
    "## Reading the files to get the DataFrames:"
   ]
  },
  {
   "cell_type": "code",
   "execution_count": 1,
   "id": "e299120f",
   "metadata": {
    "ExecuteTime": {
     "end_time": "2022-05-10T09:41:03.251233Z",
     "start_time": "2022-05-10T09:41:02.652712Z"
    }
   },
   "outputs": [
    {
     "ename": "NameError",
     "evalue": "name 'pd' is not defined",
     "output_type": "error",
     "traceback": [
      "\u001b[0;31m---------------------------------------------------------------------------\u001b[0m",
      "\u001b[0;31mNameError\u001b[0m                                 Traceback (most recent call last)",
      "Input \u001b[0;32mIn [1]\u001b[0m, in \u001b[0;36m<cell line: 1>\u001b[0;34m()\u001b[0m\n\u001b[0;32m----> 1\u001b[0m hotsongs \u001b[38;5;241m=\u001b[39m \u001b[43mpd\u001b[49m\u001b[38;5;241m.\u001b[39mread_csv(\u001b[38;5;124m'\u001b[39m\u001b[38;5;124m/Users/Hector_Martin/Documents/Labs/music_recommender_project/data/hot100.csv\u001b[39m\u001b[38;5;124m'\u001b[39m)\n\u001b[1;32m      2\u001b[0m nothotsongs \u001b[38;5;241m=\u001b[39m pd\u001b[38;5;241m.\u001b[39mread_csv(\u001b[38;5;124m'\u001b[39m\u001b[38;5;124m/Users/Hector_Martin/Documents/Labs/music_recommender_project/data/nothotsongs.csv\u001b[39m\u001b[38;5;124m'\u001b[39m)\n",
      "\u001b[0;31mNameError\u001b[0m: name 'pd' is not defined"
     ]
    }
   ],
   "source": [
    "hotsongs = pd.read_csv('/Users/Hector_Martin/Documents/Labs/music_recommender_project/data/hot100.csv')\n",
    "nothotsongs = pd.read_csv('/Users/Hector_Martin/Documents/Labs/music_recommender_project/data/nothotsongs.csv')"
   ]
  },
  {
   "cell_type": "markdown",
   "id": "59605f1b",
   "metadata": {},
   "source": [
    "## Initializing Spotipy with our credentials:"
   ]
  },
  {
   "cell_type": "code",
   "execution_count": 2,
   "id": "532e213c",
   "metadata": {},
   "outputs": [],
   "source": [
    "sp = spotipy.Spotify(auth_manager=SpotifyClientCredentials(client_id= client_id,\n",
    "                                                           client_secret= client_secret_id))"
   ]
  },
  {
   "cell_type": "markdown",
   "id": "56d05f01",
   "metadata": {},
   "source": [
    "### Creating the function to collect all the audio features based in a list of songs. This function will also store all the results on a DataFrame:"
   ]
  },
  {
   "cell_type": "code",
   "execution_count": 3,
   "id": "f426d2a9",
   "metadata": {},
   "outputs": [],
   "source": [
    "#Let's get the list of songs of the Hot Songs dataframe:\n",
    "\n",
    "#Let's read it first:\n",
    "\n",
    "#hotsongs.head()\n",
    "#Getting the list:\n",
    "hot_songs_list = [song for song in hotsongs['songs']]\n",
    "#for song in hotsongs['songs']:\n",
    "#    hot_songs_list.append(song)\n",
    " \n",
    "#hot_songs_list"
   ]
  },
  {
   "cell_type": "code",
   "execution_count": 7,
   "id": "8c861156",
   "metadata": {},
   "outputs": [],
   "source": [
    "#Let's do the same with the Not Hot Songs one:\n",
    "\n",
    "#Let's read it first:\n",
    "#nothotsongs.head()\n",
    "#Getting the list:\n",
    "not_hot_songs_list = [song for song in nothotsongs['songs']]\n",
    "#for song in nothotsongs['track_name']:\n",
    "#    not_hot_songs_list.append(song)\n",
    "#not_hot_songs_list"
   ]
  },
  {
   "cell_type": "code",
   "execution_count": 5,
   "id": "28dd76f0",
   "metadata": {},
   "outputs": [],
   "source": [
    "def get_audio_features(list_of_songs):\n",
    "    \n",
    "    import math\n",
    "    import pickle\n",
    "    import pandas as pd\n",
    "    import sys\n",
    "    import spotipy\n",
    "    from spotipy.oauth2 import SpotifyClientCredentials\n",
    "    from time import sleep\n",
    "    import glob\n",
    "    \n",
    "    song_ids = []\n",
    "\n",
    "    black = {'danceability': \"Null\", \n",
    "           'energy': \"Null\", \n",
    "           'key': \"Null\",\n",
    "           'loudness': \"Null\", \n",
    "           'mode':\"Null\", \n",
    "           'speechiness': \"Null\", \n",
    "           'acousticness': \"Null\", \n",
    "           'instrumentalness': \"Null\", \n",
    "            'liveness': \"Null\", \n",
    "            'valence': \"Null\", \n",
    "            'tempo': \"Null\", \n",
    "            'type': \"Null\", \n",
    "            'id': \"Null\", \n",
    "            'uri': \"Null\", \n",
    "            'track_href': \"Null\", \n",
    "            'analysis_url': \"Null\", \n",
    "            'duration_ms': \"Null\", \n",
    "            'time_signature': \"Null\"}\n",
    "    \n",
    "    keys = list(black.keys())\n",
    "    \n",
    "    df = pd.DataFrame()\n",
    "    chunks = math.ceil(len(list_of_songs)/1000)\n",
    "    for i in range(chunks): # chunks = 4 -> 0,1,2,3\n",
    "        song_ids = []\n",
    "        if ( i < chunks-1 ):\n",
    "            j = i + 1\n",
    "        else:\n",
    "            j = len(list_of_songs)\n",
    "        for index, song in enumerate(list_of_songs[1000*i:1000*j]): #[0:1000],[1000:2000],[2000:3000],[3000:]\n",
    "            print(\"Looking for song: \",index)\n",
    "            try:\n",
    "                songs = sp.search(q=song, limit=1)\n",
    "                song_ids.append(songs['tracks']['items'][0]['id'])\n",
    "            except: # Si no esta no se para.\n",
    "                print(song)\n",
    "                song_ids.append(\"\")\n",
    "    \n",
    "        print(\"Getting audio features\")\n",
    "        audio_feats = [sp.audio_features(song_id)[0] if ((song_id != None) and ( song_id != \"\")) else black for song_id in song_ids]\n",
    "        name = \"audio_feats_\" + str(i) + \".pkl\"\n",
    "        with open(name, \"wb\") as handle:\n",
    "            pickle.dump(audio_feats,handle)\n",
    "        print(\"Created file: \",name)\n",
    "        sleep(30)\n",
    "        print('Sleeping for 30 seconds')\n",
    "        \n",
    "        #Grouping the files together in a list:\n",
    "        \n",
    "    pkls = glob.glob(\"*.pkl\")\n",
    "    pkls.sort()\n",
    "    pkls\n",
    "        \n",
    "    df = pd.DataFrame()\n",
    "        \n",
    "    for i, pkl in enumerate(pkls):    \n",
    "        try:\n",
    "            print(pkl)\n",
    "            with open(pkl, \"rb\") as handle:\n",
    "                audio_feats = pickle.load(handle)\n",
    "                audio_feats_df = pd.DataFrame(audio_feats)\n",
    "                df = pd.concat([df,audio_feats_df],axis = 0).reset_index(drop=True)\n",
    "                    \n",
    "        except:\n",
    "            print(\"Corrupted\",pkl)\n",
    "            continue\n",
    "                             \n",
    "    return df"
   ]
  },
  {
   "cell_type": "code",
   "execution_count": null,
   "id": "8b8df8b3",
   "metadata": {},
   "outputs": [
    {
     "name": "stdout",
     "output_type": "stream",
     "text": [
      "Looking for song:  0\n"
     ]
    }
   ],
   "source": [
    "get_audio_features(not_hot_songs_list)"
   ]
  },
  {
   "cell_type": "code",
   "execution_count": 1,
   "id": "51d81c64",
   "metadata": {},
   "outputs": [],
   "source": [
    "### Function to concatenate the DataFrames:"
   ]
  },
  {
   "cell_type": "code",
   "execution_count": 11,
   "id": "060a57fd",
   "metadata": {},
   "outputs": [],
   "source": [
    "def add_audio_features(df, audio_features_df, csvname):  \n",
    "    if df.shape <=(100, df.columns):\n",
    "        df_concat = pd.concat([df, audio_features_df], axis =1)\n",
    "        df_concat = df_concat[df_concat['mode'] != 'Null']\n",
    "        df_concat = df_concat.reset_index(drop=True)\n",
    "        df_concat.to_csv(csvname+'.csv', index=False)\n",
    "        return df_concat\n",
    "    else:\n",
    "        df = df.drop(df.index[1000:2000]).reset_index(drop=True)\n",
    "        df_concat = pd.concat([df, audio_features_df], axis =1)\n",
    "        df_concat = df_concat[df_concat['mode'] != 'Null']\n",
    "        df_concat = df_concat.reset_index(drop=True)\n",
    "        df_concat.to_csv(csvname+'.csv', index=False)\n",
    "        return df_concat"
   ]
  },
  {
   "cell_type": "code",
   "execution_count": 30,
   "id": "e418d529",
   "metadata": {},
   "outputs": [],
   "source": [
    "def concatallsongs(dfhotconcat,dfnothotconcat,csvname):\n",
    "    df_allsongsconcat = pd.concat([dfhotconcat, dfnothotconcat], axis =0).reset_index(drop=True)\n",
    "    df_allsongsconcat = df_allsongsconcat[df_allsongsconcat['mode'] != 'Null']\n",
    "    df_allsongsconcat = df_allsongsconcat.reset_index(drop=True)\n",
    "    df_allsongsconcat.to_csv(csvname+'.csv', index=False)\n",
    "    return df_allsongsconcat"
   ]
  }
 ],
 "metadata": {
  "kernelspec": {
   "display_name": "Python 3 (ipykernel)",
   "language": "python",
   "name": "python3"
  },
  "language_info": {
   "codemirror_mode": {
    "name": "ipython",
    "version": 3
   },
   "file_extension": ".py",
   "mimetype": "text/x-python",
   "name": "python",
   "nbconvert_exporter": "python",
   "pygments_lexer": "ipython3",
   "version": "3.9.12"
  },
  "toc": {
   "base_numbering": 1,
   "nav_menu": {},
   "number_sections": true,
   "sideBar": true,
   "skip_h1_title": false,
   "title_cell": "Table of Contents",
   "title_sidebar": "Contents",
   "toc_cell": false,
   "toc_position": {},
   "toc_section_display": true,
   "toc_window_display": false
  }
 },
 "nbformat": 4,
 "nbformat_minor": 5
}
