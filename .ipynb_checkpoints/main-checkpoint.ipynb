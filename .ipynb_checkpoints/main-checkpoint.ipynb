{
 "cells": [
  {
   "cell_type": "markdown",
   "id": "784f40df",
   "metadata": {
    "ExecuteTime": {
     "end_time": "2022-05-10T14:52:36.286625Z",
     "start_time": "2022-05-10T14:52:36.278406Z"
    }
   },
   "source": [
    "# Main Notebook\n",
    "This Notebook contains all the code from all the other ones:\n",
    "- nothotsongs\n",
    "- 100hotsongs\n",
    "- spotipy_api_webscrapper\n",
    "- clustering_songs_from_dataframes"
   ]
  },
  {
   "cell_type": "markdown",
   "id": "8a277f1a",
   "metadata": {},
   "source": [
    "## Importing the Libraries"
   ]
  },
  {
   "cell_type": "code",
   "execution_count": 4,
   "id": "3bf7379d",
   "metadata": {
    "ExecuteTime": {
     "end_time": "2022-05-10T15:43:53.898751Z",
     "start_time": "2022-05-10T15:43:53.885805Z"
    }
   },
   "outputs": [],
   "source": [
    "import pandas as pd\n",
    "import numpy as np\n",
    "import pprint\n",
    "import sys\n",
    "sys.path.insert(1, '/Users/Hector_Martin/Documents/Labs/music_recommender_project/config.py')\n",
    "import config\n",
    "import spotipy\n",
    "import json\n",
    "from spotipy.oauth2 import SpotifyClientCredentials\n",
    "from bs4 import BeautifulSoup\n",
    "import requests\n",
    "from sklearn.preprocessing import StandardScaler\n",
    "from sklearn.cluster import KMeans\n",
    "from sklearn.metrics import silhouette_score\n",
    "import pickle\n",
    "import functions\n",
    "%matplotlib inline"
   ]
  },
  {
   "cell_type": "markdown",
   "id": "a4797ac8",
   "metadata": {},
   "source": [
    "## Getting the Not Hot Songs DataFrame\n",
    "Let's obtain a DataFrame containing a list of worth +5000 songs from the past."
   ]
  },
  {
   "cell_type": "code",
   "execution_count": 5,
   "id": "6c2cc73a",
   "metadata": {
    "ExecuteTime": {
     "end_time": "2022-05-10T15:43:54.540676Z",
     "start_time": "2022-05-10T15:43:53.914787Z"
    }
   },
   "outputs": [],
   "source": [
    "pd.set_option('display.max_columns', None)\n",
    "music = pd.read_csv('/Users/Hector_Martin/Documents/Labs/music_recommender_project/data/EvolutionPopUSA_MainData.csv')"
   ]
  },
  {
   "cell_type": "markdown",
   "id": "c0aef803",
   "metadata": {},
   "source": [
    "### Since the DataFrame consists of + 17000 songs, we are going to work with a fraction of the it"
   ]
  },
  {
   "cell_type": "code",
   "execution_count": 6,
   "id": "e24bbedd",
   "metadata": {
    "ExecuteTime": {
     "end_time": "2022-05-10T15:43:54.569851Z",
     "start_time": "2022-05-10T15:43:54.543590Z"
    }
   },
   "outputs": [],
   "source": [
    "nothotsongs = music.sample(frac=0.3, replace=False, random_state=1)\n",
    "nothotsongs = nothotsongs[['artist_name', 'track_name']]"
   ]
  },
  {
   "cell_type": "markdown",
   "id": "f124df24",
   "metadata": {},
   "source": [
    "### Renaming the columns to keep consistency with the 100 Hot Songs DataFrame."
   ]
  },
  {
   "cell_type": "code",
   "execution_count": 7,
   "id": "2629916e",
   "metadata": {
    "ExecuteTime": {
     "end_time": "2022-05-10T15:43:54.596651Z",
     "start_time": "2022-05-10T15:43:54.576084Z"
    }
   },
   "outputs": [
    {
     "data": {
      "text/html": [
       "<div>\n",
       "<style scoped>\n",
       "    .dataframe tbody tr th:only-of-type {\n",
       "        vertical-align: middle;\n",
       "    }\n",
       "\n",
       "    .dataframe tbody tr th {\n",
       "        vertical-align: top;\n",
       "    }\n",
       "\n",
       "    .dataframe thead th {\n",
       "        text-align: right;\n",
       "    }\n",
       "</style>\n",
       "<table border=\"1\" class=\"dataframe\">\n",
       "  <thead>\n",
       "    <tr style=\"text-align: right;\">\n",
       "      <th></th>\n",
       "      <th>songs</th>\n",
       "      <th>artists</th>\n",
       "    </tr>\n",
       "  </thead>\n",
       "  <tbody>\n",
       "    <tr>\n",
       "      <th>4614</th>\n",
       "      <td>Georgia On My Mind</td>\n",
       "      <td>Michael Bolton</td>\n",
       "    </tr>\n",
       "    <tr>\n",
       "      <th>12993</th>\n",
       "      <td>Insane In The Brain</td>\n",
       "      <td>Cypress Hill</td>\n",
       "    </tr>\n",
       "    <tr>\n",
       "      <th>9999</th>\n",
       "      <td>I Don't Like Mondays</td>\n",
       "      <td>The Boomtown Rats</td>\n",
       "    </tr>\n",
       "    <tr>\n",
       "      <th>7081</th>\n",
       "      <td>Goodbye</td>\n",
       "      <td>Night Ranger</td>\n",
       "    </tr>\n",
       "    <tr>\n",
       "      <th>1806</th>\n",
       "      <td>Rooms On Fire</td>\n",
       "      <td>Stevie Nicks</td>\n",
       "    </tr>\n",
       "    <tr>\n",
       "      <th>...</th>\n",
       "      <td>...</td>\n",
       "      <td>...</td>\n",
       "    </tr>\n",
       "    <tr>\n",
       "      <th>7440</th>\n",
       "      <td>Angel</td>\n",
       "      <td>Natasha Bedingfield</td>\n",
       "    </tr>\n",
       "    <tr>\n",
       "      <th>5856</th>\n",
       "      <td>Automatically Sunshine</td>\n",
       "      <td>The Supremes</td>\n",
       "    </tr>\n",
       "    <tr>\n",
       "      <th>15036</th>\n",
       "      <td>Vaquero (Cowboy)</td>\n",
       "      <td>The Fireballs</td>\n",
       "    </tr>\n",
       "    <tr>\n",
       "      <th>16082</th>\n",
       "      <td>The Blizzard</td>\n",
       "      <td>Jim Reeves</td>\n",
       "    </tr>\n",
       "    <tr>\n",
       "      <th>16334</th>\n",
       "      <td>The Whole World</td>\n",
       "      <td>OutKast Featuring Killer Mike</td>\n",
       "    </tr>\n",
       "  </tbody>\n",
       "</table>\n",
       "<p>5128 rows × 2 columns</p>\n",
       "</div>"
      ],
      "text/plain": [
       "                        songs                        artists\n",
       "4614       Georgia On My Mind                 Michael Bolton\n",
       "12993     Insane In The Brain                   Cypress Hill\n",
       "9999     I Don't Like Mondays              The Boomtown Rats\n",
       "7081                  Goodbye                   Night Ranger\n",
       "1806            Rooms On Fire                   Stevie Nicks\n",
       "...                       ...                            ...\n",
       "7440                    Angel            Natasha Bedingfield\n",
       "5856   Automatically Sunshine                   The Supremes\n",
       "15036        Vaquero (Cowboy)                  The Fireballs\n",
       "16082            The Blizzard                     Jim Reeves\n",
       "16334         The Whole World  OutKast Featuring Killer Mike\n",
       "\n",
       "[5128 rows x 2 columns]"
      ]
     },
     "execution_count": 7,
     "metadata": {},
     "output_type": "execute_result"
    }
   ],
   "source": [
    "nothotsongs = nothotsongs.rename(columns={'artist_name':'artists',\n",
    "                            'track_name':'songs', })\n",
    "nothotsongs = nothotsongs[['songs', 'artists']]\n",
    "nothotsongs"
   ]
  },
  {
   "cell_type": "markdown",
   "id": "f87e7ec1",
   "metadata": {},
   "source": [
    "### Storing the DataFrame into a csv file"
   ]
  },
  {
   "cell_type": "code",
   "execution_count": 8,
   "id": "101075aa",
   "metadata": {
    "ExecuteTime": {
     "end_time": "2022-05-10T15:43:54.629444Z",
     "start_time": "2022-05-10T15:43:54.602864Z"
    }
   },
   "outputs": [],
   "source": [
    "nothotsongs.to_csv(\"data/nothotsongs.csv\", index=False)"
   ]
  },
  {
   "cell_type": "markdown",
   "id": "48c4969e",
   "metadata": {},
   "source": [
    "## Web Scrapping of 100 Hot Songs\n",
    "Our goal is to scrape the current top 100 songs present at https://www.billboard.com/charts/hot-100 and their respective artists, put the information into a pandas dataframe, and save the dataframe in a csv file in the current folder."
   ]
  },
  {
   "cell_type": "code",
   "execution_count": 9,
   "id": "15137e41",
   "metadata": {
    "ExecuteTime": {
     "end_time": "2022-05-10T15:43:56.197254Z",
     "start_time": "2022-05-10T15:43:54.632008Z"
    }
   },
   "outputs": [
    {
     "data": {
      "text/html": [
       "<div>\n",
       "<style scoped>\n",
       "    .dataframe tbody tr th:only-of-type {\n",
       "        vertical-align: middle;\n",
       "    }\n",
       "\n",
       "    .dataframe tbody tr th {\n",
       "        vertical-align: top;\n",
       "    }\n",
       "\n",
       "    .dataframe thead th {\n",
       "        text-align: right;\n",
       "    }\n",
       "</style>\n",
       "<table border=\"1\" class=\"dataframe\">\n",
       "  <thead>\n",
       "    <tr style=\"text-align: right;\">\n",
       "      <th></th>\n",
       "      <th>songs</th>\n",
       "      <th>artists</th>\n",
       "    </tr>\n",
       "  </thead>\n",
       "  <tbody>\n",
       "    <tr>\n",
       "      <th>0</th>\n",
       "      <td>Wait For U</td>\n",
       "      <td>Future Featuring Drake &amp; Tems</td>\n",
       "    </tr>\n",
       "    <tr>\n",
       "      <th>1</th>\n",
       "      <td>As It Was</td>\n",
       "      <td>Harry Styles</td>\n",
       "    </tr>\n",
       "    <tr>\n",
       "      <th>2</th>\n",
       "      <td>First Class</td>\n",
       "      <td>Jack Harlow</td>\n",
       "    </tr>\n",
       "    <tr>\n",
       "      <th>3</th>\n",
       "      <td>Puffin On Zootiez</td>\n",
       "      <td>Future</td>\n",
       "    </tr>\n",
       "    <tr>\n",
       "      <th>4</th>\n",
       "      <td>Heat Waves</td>\n",
       "      <td>Glass Animals</td>\n",
       "    </tr>\n",
       "    <tr>\n",
       "      <th>...</th>\n",
       "      <td>...</td>\n",
       "      <td>...</td>\n",
       "    </tr>\n",
       "    <tr>\n",
       "      <th>95</th>\n",
       "      <td>Ahhh Ha</td>\n",
       "      <td>Lil Durk</td>\n",
       "    </tr>\n",
       "    <tr>\n",
       "      <th>96</th>\n",
       "      <td>Rumors</td>\n",
       "      <td>Gucci Mane Featuring Lil Durk</td>\n",
       "    </tr>\n",
       "    <tr>\n",
       "      <th>97</th>\n",
       "      <td>Over</td>\n",
       "      <td>Lucky Daye</td>\n",
       "    </tr>\n",
       "    <tr>\n",
       "      <th>98</th>\n",
       "      <td>Shake It</td>\n",
       "      <td>Kay Flock, Cardi B, Dougie B &amp; Bory300</td>\n",
       "    </tr>\n",
       "    <tr>\n",
       "      <th>99</th>\n",
       "      <td>Hate Our Love</td>\n",
       "      <td>Queen Naija &amp; Big Sean</td>\n",
       "    </tr>\n",
       "  </tbody>\n",
       "</table>\n",
       "<p>100 rows × 2 columns</p>\n",
       "</div>"
      ],
      "text/plain": [
       "                songs                                 artists\n",
       "0          Wait For U           Future Featuring Drake & Tems\n",
       "1           As It Was                            Harry Styles\n",
       "2         First Class                             Jack Harlow\n",
       "3   Puffin On Zootiez                                  Future\n",
       "4          Heat Waves                           Glass Animals\n",
       "..                ...                                     ...\n",
       "95            Ahhh Ha                                Lil Durk\n",
       "96             Rumors           Gucci Mane Featuring Lil Durk\n",
       "97               Over                              Lucky Daye\n",
       "98           Shake It  Kay Flock, Cardi B, Dougie B & Bory300\n",
       "99      Hate Our Love                  Queen Naija & Big Sean\n",
       "\n",
       "[100 rows x 2 columns]"
      ]
     },
     "execution_count": 9,
     "metadata": {},
     "output_type": "execute_result"
    }
   ],
   "source": [
    "hot100_df = functions.hot100(\"https://www.billboard.com/charts/hot-100/\")\n",
    "hot100_df"
   ]
  },
  {
   "cell_type": "markdown",
   "id": "fc6cf851",
   "metadata": {},
   "source": [
    "## Web Scrapping with Spotipy API\n",
    "\n",
    "In order to get all the audio feautures from all the songs we have, we are going to use this API. Our final goal will be to get 3 DataFrames containing the name of the songs, the artists and their respective audio features obtained from Spotify:\n",
    "- **100 Hot Songs DataFrame:** DataFrame cointaining the hottest 100 current mainstream hits\n",
    "- **Not Hot Songs DataFrame:** DataFrame containing an extensive list of songs from the past\n",
    "- **All Songs DataFrame:** DataFrame containing the content of the previous 2 ones"
   ]
  },
  {
   "cell_type": "markdown",
   "id": "2461b96c",
   "metadata": {},
   "source": [
    "### Reading the files to get the DataFrames:"
   ]
  },
  {
   "cell_type": "code",
   "execution_count": 10,
   "id": "d421c64c",
   "metadata": {
    "ExecuteTime": {
     "end_time": "2022-05-10T15:43:56.233331Z",
     "start_time": "2022-05-10T15:43:56.201550Z"
    }
   },
   "outputs": [],
   "source": [
    "hotsongs = pd.read_csv('/Users/Hector_Martin/Documents/Labs/music_recommender_project/data/hot100.csv')\n",
    "nothotsongs = pd.read_csv('/Users/Hector_Martin/Documents/Labs/music_recommender_project/data/nothotsongs.csv')"
   ]
  },
  {
   "cell_type": "markdown",
   "id": "6c1ce55b",
   "metadata": {},
   "source": [
    "### Getting the list of hot songs:"
   ]
  },
  {
   "cell_type": "code",
   "execution_count": 11,
   "id": "2571b2e7",
   "metadata": {
    "ExecuteTime": {
     "end_time": "2022-05-10T15:43:56.245751Z",
     "start_time": "2022-05-10T15:43:56.235834Z"
    }
   },
   "outputs": [],
   "source": [
    "hot_songs_list = [song for song in hotsongs['songs']]"
   ]
  },
  {
   "cell_type": "markdown",
   "id": "337f1e47",
   "metadata": {},
   "source": [
    "### Let's do the same with the Not Hot Songs:"
   ]
  },
  {
   "cell_type": "code",
   "execution_count": 12,
   "id": "25280c75",
   "metadata": {
    "ExecuteTime": {
     "end_time": "2022-05-10T15:43:56.260525Z",
     "start_time": "2022-05-10T15:43:56.251444Z"
    }
   },
   "outputs": [],
   "source": [
    "not_hot_songs_list = [song for song in nothotsongs['songs']]"
   ]
  },
  {
   "cell_type": "markdown",
   "id": "13dad536",
   "metadata": {},
   "source": [
    "### Getting the audio features based on the lists of songs"
   ]
  },
  {
   "cell_type": "code",
   "execution_count": null,
   "id": "4d5e40c1",
   "metadata": {
    "ExecuteTime": {
     "start_time": "2022-05-10T15:43:53.907Z"
    }
   },
   "outputs": [
    {
     "name": "stdout",
     "output_type": "stream",
     "text": [
      "Looking for song:  0\n",
      "Looking for song:  1\n",
      "Looking for song:  2\n",
      "Looking for song:  3\n",
      "Looking for song:  4\n",
      "Looking for song:  5\n",
      "Looking for song:  6\n",
      "Looking for song:  7\n",
      "Looking for song:  8\n",
      "Looking for song:  9\n",
      "Looking for song:  10\n",
      "Looking for song:  11\n",
      "Looking for song:  12\n",
      "Looking for song:  13\n",
      "Looking for song:  14\n",
      "Looking for song:  15\n",
      "Looking for song:  16\n",
      "Looking for song:  17\n",
      "Looking for song:  18\n",
      "Looking for song:  19\n",
      "Looking for song:  20\n",
      "Looking for song:  21\n",
      "Looking for song:  22\n",
      "Looking for song:  23\n",
      "Looking for song:  24\n",
      "Looking for song:  25\n",
      "Looking for song:  26\n",
      "Looking for song:  27\n",
      "Looking for song:  28\n",
      "Looking for song:  29\n",
      "Looking for song:  30\n",
      "Looking for song:  31\n",
      "Looking for song:  32\n",
      "Looking for song:  33\n",
      "Looking for song:  34\n",
      "Looking for song:  35\n",
      "Looking for song:  36\n",
      "Looking for song:  37\n",
      "Looking for song:  38\n",
      "Looking for song:  39\n",
      "Looking for song:  40\n",
      "Looking for song:  41\n",
      "Looking for song:  42\n",
      "Looking for song:  43\n",
      "Looking for song:  44\n",
      "Looking for song:  45\n",
      "Looking for song:  46\n",
      "Looking for song:  47\n",
      "Looking for song:  48\n",
      "Looking for song:  49\n",
      "Looking for song:  50\n",
      "Looking for song:  51\n",
      "Looking for song:  52\n",
      "Looking for song:  53\n",
      "Looking for song:  54\n",
      "Looking for song:  55\n",
      "Looking for song:  56\n",
      "Looking for song:  57\n",
      "Looking for song:  58\n",
      "Looking for song:  59\n",
      "Looking for song:  60\n",
      "Looking for song:  61\n",
      "Looking for song:  62\n",
      "Looking for song:  63\n",
      "Looking for song:  64\n",
      "Looking for song:  65\n",
      "Looking for song:  66\n",
      "Looking for song:  67\n",
      "Looking for song:  68\n",
      "Looking for song:  69\n",
      "Looking for song:  70\n",
      "Looking for song:  71\n",
      "Looking for song:  72\n",
      "Looking for song:  73\n",
      "Looking for song:  74\n",
      "Looking for song:  75\n",
      "Looking for song:  76\n",
      "Looking for song:  77\n",
      "Looking for song:  78\n",
      "Looking for song:  79\n",
      "Looking for song:  80\n",
      "Looking for song:  81\n",
      "Looking for song:  82\n",
      "Looking for song:  83\n",
      "Looking for song:  84\n",
      "Looking for song:  85\n",
      "Looking for song:  86\n",
      "Looking for song:  87\n",
      "Looking for song:  88\n",
      "Looking for song:  89\n",
      "Looking for song:  90\n",
      "Looking for song:  91\n",
      "Looking for song:  92\n",
      "Looking for song:  93\n"
     ]
    }
   ],
   "source": [
    "hot_songs_af = functions.get_audio_features(hot_songs_list, hotsongs)\n",
    "not_hot_songs_af = functions.get_audio_features(not_hot_songs_list)"
   ]
  },
  {
   "cell_type": "markdown",
   "id": "29f70016",
   "metadata": {},
   "source": [
    "### Function to concatenate the Audio features to the song DataFrames"
   ]
  },
  {
   "cell_type": "code",
   "execution_count": null,
   "id": "a55e566a",
   "metadata": {
    "ExecuteTime": {
     "start_time": "2022-05-10T15:43:53.910Z"
    }
   },
   "outputs": [],
   "source": [
    "hotconcat_df = functions.add_audio_features(hotsongs, hot_songs_af, 'hot_songs')\n",
    "nothotconcat_df = functions.add_audio_features(nothotsongs, hot_songs_af, 'not_hot_songs')"
   ]
  },
  {
   "cell_type": "markdown",
   "id": "f8123c42",
   "metadata": {},
   "source": [
    "### Function to concatenate the Hot Songs DataFrame with the Not Hot Songs one"
   ]
  },
  {
   "cell_type": "code",
   "execution_count": null,
   "id": "c9ec4eec",
   "metadata": {
    "ExecuteTime": {
     "start_time": "2022-05-10T15:43:53.912Z"
    }
   },
   "outputs": [],
   "source": [
    "allsongs_df = functions.concatallsongs(hotconcat_df,nothotconcat_df,'allsongs_df')"
   ]
  },
  {
   "cell_type": "markdown",
   "id": "a3ac9405",
   "metadata": {},
   "source": [
    "## Clustering the songs from dataframes"
   ]
  },
  {
   "cell_type": "markdown",
   "id": "9d85e56a",
   "metadata": {},
   "source": [
    "### Importing the libraries"
   ]
  },
  {
   "cell_type": "code",
   "execution_count": null,
   "id": "819a836d",
   "metadata": {
    "ExecuteTime": {
     "start_time": "2022-05-10T15:43:53.915Z"
    }
   },
   "outputs": [],
   "source": [
    "all_songs = pd.read_csv('/Users/Hector_Martin/Documents/Labs/music_recommender_project/data/allsongs_df.csv')"
   ]
  },
  {
   "cell_type": "markdown",
   "id": "658f02a0",
   "metadata": {},
   "source": [
    "### Removing all the unnecessary audio features:\n",
    "These are not actually audio features, just links and other kind of information that has nothing to do with audio qualities."
   ]
  },
  {
   "cell_type": "code",
   "execution_count": null,
   "id": "ed9a1b32",
   "metadata": {
    "ExecuteTime": {
     "start_time": "2022-05-10T15:43:53.917Z"
    }
   },
   "outputs": [],
   "source": [
    "all_songs_clean = all_songs.drop(['analysis_url', 'id', 'uri', 'track_href', 'analysis_url', 'duration_ms', 'time_signature', 'type'],axis =1)"
   ]
  },
  {
   "cell_type": "markdown",
   "id": "bfe5168b",
   "metadata": {},
   "source": [
    "### Store this cleaned Dataframe in a csv file:"
   ]
  },
  {
   "cell_type": "code",
   "execution_count": null,
   "id": "463d2110",
   "metadata": {
    "ExecuteTime": {
     "start_time": "2022-05-10T15:43:53.920Z"
    }
   },
   "outputs": [],
   "source": [
    "all_songs_clean.to_csv(\"data/all_songs_clean.csv\", index=False)"
   ]
  },
  {
   "cell_type": "markdown",
   "id": "15d5f226",
   "metadata": {},
   "source": [
    "### Numerical and Categorical split:\n",
    "- X_num will be for Numerical columns\n",
    "- X_cat will be for Categorical ones"
   ]
  },
  {
   "cell_type": "code",
   "execution_count": null,
   "id": "14634d85",
   "metadata": {
    "ExecuteTime": {
     "start_time": "2022-05-10T15:43:53.924Z"
    }
   },
   "outputs": [],
   "source": [
    "X_num = all_songs_clean.drop(['songs', 'artists'], axis =1)"
   ]
  },
  {
   "cell_type": "code",
   "execution_count": null,
   "id": "3fc1e1f9",
   "metadata": {
    "ExecuteTime": {
     "start_time": "2022-05-10T15:43:53.926Z"
    }
   },
   "outputs": [],
   "source": [
    "X_cat = all_songs[['songs', 'artists']]"
   ]
  },
  {
   "cell_type": "markdown",
   "id": "b795ffa9",
   "metadata": {},
   "source": [
    "### Scaling the features"
   ]
  },
  {
   "cell_type": "code",
   "execution_count": null,
   "id": "e6c54568",
   "metadata": {
    "ExecuteTime": {
     "start_time": "2022-05-10T15:43:53.928Z"
    }
   },
   "outputs": [],
   "source": [
    "scaler = pickle.load(open(\"encoders/onehotencoder.pkl\",\"rb\"))\n",
    "X_scaled = scaler.transform(X_num)\n",
    "X_scaled_df = pd.DataFrame(X_scaled, columns = X_num.columns)\n",
    "print('Data before the transformation')\n",
    "print('------------------------------')\n",
    "display(X_num.head())\n",
    "print()\n",
    "print('Data after the transformation')\n",
    "print('------------------------------')\n",
    "display(X_scaled_df.head())"
   ]
  },
  {
   "cell_type": "markdown",
   "id": "be3b26da",
   "metadata": {},
   "source": [
    "### Training Models with different K values to assess which offers the best performance:"
   ]
  },
  {
   "cell_type": "code",
   "execution_count": null,
   "id": "60e9df21",
   "metadata": {
    "ExecuteTime": {
     "start_time": "2022-05-10T15:43:53.930Z"
    }
   },
   "outputs": [],
   "source": [
    "functions.k_means_trainer(X_scaled_df)"
   ]
  }
 ],
 "metadata": {
  "kernelspec": {
   "display_name": "Python 3 (ipykernel)",
   "language": "python",
   "name": "python3"
  },
  "language_info": {
   "codemirror_mode": {
    "name": "ipython",
    "version": 3
   },
   "file_extension": ".py",
   "mimetype": "text/x-python",
   "name": "python",
   "nbconvert_exporter": "python",
   "pygments_lexer": "ipython3",
   "version": "3.9.12"
  },
  "toc": {
   "base_numbering": 1,
   "nav_menu": {},
   "number_sections": true,
   "sideBar": true,
   "skip_h1_title": false,
   "title_cell": "Table of Contents",
   "title_sidebar": "Contents",
   "toc_cell": false,
   "toc_position": {},
   "toc_section_display": true,
   "toc_window_display": false
  }
 },
 "nbformat": 4,
 "nbformat_minor": 5
}
