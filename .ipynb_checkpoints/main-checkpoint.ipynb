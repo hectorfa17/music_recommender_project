{
 "cells": [
  {
   "cell_type": "code",
   "execution_count": 1,
   "id": "192dc099",
   "metadata": {},
   "outputs": [],
   "source": [
    "import pandas as pd\n",
    "import numpy as np\n",
    "from sklearn.preprocessing import StandardScaler\n",
    "from sklearn.cluster import KMeans\n",
    "from sklearn.metrics import silhouette_score\n",
    "import pickle\n",
    "import numpy as np\n",
    "import matplotlib.pyplot as plt\n",
    "%matplotlib inline\n",
    "import sys\n",
    "sys.path.insert(1, '/Users/Hector_Martin/Documents/Labs/music_recommender_project/config.py')\n",
    "from config import *\n",
    "import spotipy\n",
    "import json\n",
    "from spotipy.oauth2 import SpotifyClientCredentials\n",
    "import functions"
   ]
  },
  {
   "cell_type": "markdown",
   "id": "0dce05b0",
   "metadata": {},
   "source": [
    "### First of all, let's read the Dataframes we will need:"
   ]
  },
  {
   "cell_type": "code",
   "execution_count": 13,
   "id": "07b6eca3",
   "metadata": {},
   "outputs": [],
   "source": [
    "all_songs_scaled_df = pd.read_csv('/Users/Hector_Martin/Documents/Labs/music_recommender_project/data/all_songs_scaled.csv')\n",
    "hot100_m14k = pd.read_csv('/Users/Hector_Martin/Documents/Labs/music_recommender_project/data/dfmodels/hot100_m14k.csv')\n",
    "nothot_m14k = pd.read_csv('/Users/Hector_Martin/Documents/Labs/music_recommender_project/data/dfmodels/nothot_m14k.csv')"
   ]
  },
  {
   "cell_type": "markdown",
   "id": "2fe47a82",
   "metadata": {},
   "source": [
    "### User inputs a song:"
   ]
  },
  {
   "cell_type": "code",
   "execution_count": null,
   "id": "946d066a",
   "metadata": {},
   "outputs": [],
   "source": [
    "#no hace falta aplicar lower aqui\n",
    "while True: \n",
    "    song = str(input('Input a song you like so we can recommend you something cool: '))\n",
    "    print('Checking for recommendations based on {}'.format(song))\n",
    "    results = sp.search(q=song, limit=5)\n",
    "        if ( results = None ):\n",
    "\n",
    "    "
   ]
  },
  {
   "cell_type": "code",
   "execution_count": null,
   "id": "ed703056",
   "metadata": {},
   "outputs": [],
   "source": [
    "while True:             # Loop continuously\n",
    "    song = str(input('Input a song you like so we can recommend you something cobol: '))   # Get the input\n",
    "    if results = sp.search(q=song, limit=5):      # If it is in the column..\n",
    "        print('Checking for recommendations based on {}'.format(song))\n",
    "        break"
   ]
  },
  {
   "cell_type": "code",
   "execution_count": null,
   "id": "5074e3a8",
   "metadata": {},
   "outputs": [],
   "source": []
  },
  {
   "cell_type": "markdown",
   "id": "b3f9ceb5",
   "metadata": {},
   "source": [
    "### Clustering model to predict:"
   ]
  },
  {
   "cell_type": "code",
   "execution_count": null,
   "id": "9b673095",
   "metadata": {},
   "outputs": [],
   "source": [
    "def load(filename = \"filename.pickle\"): #if I don't specify the name of the file it's going to be 'filename.pickle'\n",
    "    try: \n",
    "        with open(filename, \"rb\") as file: \n",
    "            return pickle.load(file) \n",
    "    except FileNotFoundError: \n",
    "        print(\"File not found!\")"
   ]
  },
  {
   "cell_type": "code",
   "execution_count": null,
   "id": "496ec304",
   "metadata": {},
   "outputs": [],
   "source": [
    "#Loading model:\n",
    "kmeans = load('/Users/Hector_Martin/Documents/Labs/music_recommender_project/models/kmeans_5.pickle')"
   ]
  },
  {
   "cell_type": "code",
   "execution_count": null,
   "id": "687db255",
   "metadata": {},
   "outputs": [],
   "source": [
    "#aplicar .lower al input del usuario\n",
    "#al hacer la busqueda en la columna de canciones, aplicar .lower() tambien"
   ]
  },
  {
   "cell_type": "code",
   "execution_count": 27,
   "id": "e9282d5c",
   "metadata": {},
   "outputs": [
    {
     "name": "stdout",
     "output_type": "stream",
     "text": [
      "We recommend you:  Super Gremlin  from:  Kodak Black\n"
     ]
    }
   ],
   "source": [
    "print('We recommend you: ', nothot_m5k['songs'][2],' from: ',nothot_m5k['artists'][2])\n"
   ]
  },
  {
   "cell_type": "code",
   "execution_count": 42,
   "id": "d472e8ba",
   "metadata": {},
   "outputs": [],
   "source": [
    "def music_recommender():\n",
    "    sp = spotipy.Spotify(auth_manager=SpotifyClientCredentials(client_id= client_id,\n",
    "                                                           client_secret= client_secret_id))\n",
    "    \n",
    "    song = str(input('Input a song you like so we can recommend you something cool: '))\n",
    "    results = functions.get_audio_features_single(song)\n",
    "    scaler = pickle.load(open(\"scalers/standardscaler.pickle\",\"rb\"))\n",
    "    results_scaled = scaler.transform(results)\n",
    "    results_scaled_df = pd.DataFrame(results_scaled, columns = results.columns)\n",
    "    #display(results_scaled_df)\n",
    "    model = pickle.load(open(\"models/kmeans_14.pickle\",\"rb\"))\n",
    "    prediction = model.predict(results_scaled_df)[0]\n",
    "    print(prediction)\n",
    "    if (song in hot100_m14k['songs'].values):\n",
    "        recommendation = hot100_m14k[hot100_m14k['cluster'] == prediction].sample().index\n",
    "        print('We recommend you: ',hot100_m14k['songs'][recommendation].values[0],' - ', hot100_m14k['artists'][recommendation].values[0])\n",
    "    else:\n",
    "        recommendation = nothot_m14k[nothot_m14k['cluster'] == prediction].sample().index\n",
    "        print('We recommend you: ', nothot_m14k['songs'][recommendation].values[0],' - ', nothot_m14k['artists'][recommendation].values[0])\n",
    "    "
   ]
  },
  {
   "cell_type": "code",
   "execution_count": 43,
   "id": "08edfe00",
   "metadata": {},
   "outputs": [
    {
     "name": "stdout",
     "output_type": "stream",
     "text": [
      "Input a song you like so we can recommend you something cool: awa\n",
      "Looking for song:  awa\n",
      "Getting audio features\n",
      "Created file:  audio_feats_awa.pkl\n",
      "audio_feats_awa.pkl\n",
      "8\n",
      "We recommend you:  Bad Girls  -  Donna Summer\n"
     ]
    }
   ],
   "source": [
    "music_recommender()"
   ]
  },
  {
   "cell_type": "code",
   "execution_count": 6,
   "id": "8790a041",
   "metadata": {},
   "outputs": [
    {
     "data": {
      "text/plain": [
       "0"
      ]
     },
     "execution_count": 6,
     "metadata": {},
     "output_type": "execute_result"
    }
   ],
   "source": [
    "prediction.tolist()[0]"
   ]
  },
  {
   "cell_type": "code",
   "execution_count": null,
   "id": "d6c22f36",
   "metadata": {},
   "outputs": [],
   "source": [
    "#if (song.lower() in df['songs'].values.lower())\n",
    "# df[df['cluster'] == prediction.tolist()[0]].sample()\n"
   ]
  },
  {
   "cell_type": "code",
   "execution_count": 7,
   "id": "473e220e",
   "metadata": {},
   "outputs": [],
   "source": [
    "### Creating the Dataframes with the clusters"
   ]
  },
  {
   "cell_type": "markdown",
   "id": "7408c669",
   "metadata": {},
   "source": [
    "### Predictions of ALLSONGSDF"
   ]
  },
  {
   "cell_type": "code",
   "execution_count": null,
   "id": "4215da93",
   "metadata": {},
   "outputs": [],
   "source": [
    "nothot_m14k"
   ]
  },
  {
   "cell_type": "code",
   "execution_count": 16,
   "id": "557a292d",
   "metadata": {},
   "outputs": [],
   "source": [
    "hot100_songart = pd.read_csv('/Users/Hector_Martin/Documents/Labs/music_recommender_project/data/hot_100_songartNoNull.csv')\n",
    "nothot_songart = pd.read_csv('/Users/Hector_Martin/Documents/Labs/music_recommender_project/data/nothot_songart_nonulls.csv')\n",
    "all_songs_songart = pd.read_csv('/Users/Hector_Martin/Documents/Labs/music_recommender_project/data/all_songs_songart.csv')#display(hot100_songart.head(5))\n",
    "hot_100_songartNoNull = pd.read_csv('/Users/Hector_Martin/Documents/Labs/music_recommender_project/data/hot_100_songartNoNull.csv')#display(hot100_songart.head(5))\n",
    "nothot_songart_nonulls = pd.read_csv('/Users/Hector_Martin/Documents/Labs/music_recommender_project/data/nothot_songart_nonulls.csv')\n",
    "#display(nothot_songart.head(5))\n",
    "#all_songs_songart"
   ]
  },
  {
   "cell_type": "code",
   "execution_count": 14,
   "id": "01d670bd",
   "metadata": {},
   "outputs": [
    {
     "data": {
      "text/plain": [
       "array([13,  8,  0, ..., 12,  1, 11], dtype=int32)"
      ]
     },
     "execution_count": 14,
     "metadata": {},
     "output_type": "execute_result"
    }
   ],
   "source": [
    "model = pickle.load(open(\"models/kmeans_14.pickle\",\"rb\"))\n",
    "clusters = model.predict(all_songs_scaled_df)\n",
    "clusters"
   ]
  },
  {
   "cell_type": "code",
   "execution_count": 17,
   "id": "61703c63",
   "metadata": {},
   "outputs": [],
   "source": [
    "all_songs_songart['cluster'] = clusters.tolist()"
   ]
  },
  {
   "cell_type": "code",
   "execution_count": 21,
   "id": "6b13182f",
   "metadata": {},
   "outputs": [],
   "source": [
    "model14k = all_songs_songart[['songs', 'artists', 'cluster']]\n",
    "model14k.to_csv('model14k.csv', index=False)"
   ]
  }
 ],
 "metadata": {
  "kernelspec": {
   "display_name": "Python 3 (ipykernel)",
   "language": "python",
   "name": "python3"
  },
  "language_info": {
   "codemirror_mode": {
    "name": "ipython",
    "version": 3
   },
   "file_extension": ".py",
   "mimetype": "text/x-python",
   "name": "python",
   "nbconvert_exporter": "python",
   "pygments_lexer": "ipython3",
   "version": "3.9.7"
  }
 },
 "nbformat": 4,
 "nbformat_minor": 5
}
