{
 "cells": [
  {
   "cell_type": "markdown",
   "id": "e0246f1d",
   "metadata": {},
   "source": [
    "# Clustering the songs from dataframes"
   ]
  },
  {
   "cell_type": "markdown",
   "id": "184889ec",
   "metadata": {},
   "source": [
    "Now it's time to cluster the songs of the hot_songs and not_hot_songs databases according to the song's audio features. You will need to consider the following:\n",
    "\n",
    "- Are you going to use all the audio features? If not, which ones do you think to make more sense?\n",
    "- What is the optimal number of clusters (for methods that need to know this beforehand)?\n",
    "- What is the best distance to use?\n",
    "- What clustering method provides better results?\n",
    "- Does the clustering method need a transformer?\n",
    "\n",
    "Be aware that this process is extremely time-consuming!!! Therefore, when testing different options, save the models into your disk in order to be able to use the best model later.  You don't want to retrain the best model again when you know what are the optimal parameters for each.\n",
    "\n",
    "Add to the hot_songs and not_hot_songs databases a new column for each clustering method with the cluster membership of each song for each method."
   ]
  },
  {
   "cell_type": "markdown",
   "id": "def9af95",
   "metadata": {},
   "source": [
    "## Importing the libraries"
   ]
  },
  {
   "cell_type": "code",
   "execution_count": 7,
   "id": "f9adc7f8",
   "metadata": {
    "ExecuteTime": {
     "end_time": "2022-05-10T15:25:20.517153Z",
     "start_time": "2022-05-10T15:25:18.371116Z"
    }
   },
   "outputs": [
    {
     "name": "stdout",
     "output_type": "stream",
     "text": [
      "Requirement already satisfied: sklearn in /opt/anaconda3/envs/song_rec/lib/python3.9/site-packages (0.0)\n",
      "Requirement already satisfied: scikit-learn in /opt/anaconda3/envs/song_rec/lib/python3.9/site-packages (from sklearn) (1.0.2)\n",
      "Requirement already satisfied: scipy>=1.1.0 in /opt/anaconda3/envs/song_rec/lib/python3.9/site-packages (from scikit-learn->sklearn) (1.8.0)\n",
      "Requirement already satisfied: threadpoolctl>=2.0.0 in /opt/anaconda3/envs/song_rec/lib/python3.9/site-packages (from scikit-learn->sklearn) (3.1.0)\n",
      "Requirement already satisfied: joblib>=0.11 in /opt/anaconda3/envs/song_rec/lib/python3.9/site-packages (from scikit-learn->sklearn) (1.1.0)\n",
      "Requirement already satisfied: numpy>=1.14.6 in /opt/anaconda3/envs/song_rec/lib/python3.9/site-packages (from scikit-learn->sklearn) (1.22.3)\n",
      "Note: you may need to restart the kernel to use updated packages.\n"
     ]
    }
   ],
   "source": [
    "pip install sklearn"
   ]
  },
  {
   "cell_type": "code",
   "execution_count": 8,
   "id": "80c8896f",
   "metadata": {
    "ExecuteTime": {
     "end_time": "2022-05-10T15:25:20.538526Z",
     "start_time": "2022-05-10T15:25:20.523332Z"
    }
   },
   "outputs": [],
   "source": [
    "import pandas as pd\n",
    "import numpy as np\n",
    "from sklearn.preprocessing import StandardScaler\n",
    "from sklearn.cluster import KMeans\n",
    "from sklearn.metrics import silhouette_score\n",
    "import pickle"
   ]
  },
  {
   "cell_type": "code",
   "execution_count": 9,
   "id": "d96ab722",
   "metadata": {
    "ExecuteTime": {
     "end_time": "2022-05-10T15:25:20.570114Z",
     "start_time": "2022-05-10T15:25:20.541463Z"
    }
   },
   "outputs": [],
   "source": [
    "all_songs = pd.read_csv('data/allsongsconcat_df.csv')"
   ]
  },
  {
   "cell_type": "markdown",
   "id": "71ed92e7",
   "metadata": {},
   "source": [
    "## Removing all the unnecessary audio features:\n",
    "These are not actually audio features, just links and other kind of information that has nothing to do with audio qualities."
   ]
  },
  {
   "cell_type": "code",
   "execution_count": 10,
   "id": "878323b0",
   "metadata": {
    "ExecuteTime": {
     "end_time": "2022-05-10T15:25:20.581430Z",
     "start_time": "2022-05-10T15:25:20.574096Z"
    }
   },
   "outputs": [],
   "source": [
    "all_songs_clean = all_songs.drop(['analysis_url', 'id', 'uri', 'track_href', 'analysis_url', 'duration_ms', 'time_signature', 'type'],axis =1)"
   ]
  },
  {
   "cell_type": "markdown",
   "id": "b006e6c3",
   "metadata": {},
   "source": [
    "## Store this cleaned Dataframe in a csv file:"
   ]
  },
  {
   "cell_type": "code",
   "execution_count": 11,
   "id": "363f5f5c",
   "metadata": {
    "ExecuteTime": {
     "end_time": "2022-05-10T15:25:20.634672Z",
     "start_time": "2022-05-10T15:25:20.590511Z"
    }
   },
   "outputs": [],
   "source": [
    "all_songs_clean.to_csv(\"data/all_songs_clean.csv\", index=False)"
   ]
  },
  {
   "cell_type": "markdown",
   "id": "edec58f8",
   "metadata": {},
   "source": [
    "## Numerical and Categorical split:\n",
    "- X_num will be for Numerical columns\n",
    "- X_cat will be for Categorical ones"
   ]
  },
  {
   "cell_type": "code",
   "execution_count": 12,
   "id": "480dca3e",
   "metadata": {
    "ExecuteTime": {
     "end_time": "2022-05-10T15:25:20.641795Z",
     "start_time": "2022-05-10T15:25:20.637086Z"
    }
   },
   "outputs": [],
   "source": [
    "X_num = all_songs_clean.drop(['songs', 'artists'], axis =1)"
   ]
  },
  {
   "cell_type": "code",
   "execution_count": 13,
   "id": "c7424f58",
   "metadata": {
    "ExecuteTime": {
     "end_time": "2022-05-10T15:25:20.650752Z",
     "start_time": "2022-05-10T15:25:20.644748Z"
    }
   },
   "outputs": [],
   "source": [
    "X_cat = all_songs[['songs', 'artists']]"
   ]
  },
  {
   "cell_type": "markdown",
   "id": "48ed557a",
   "metadata": {
    "ExecuteTime": {
     "end_time": "2022-05-10T09:13:46.184390Z",
     "start_time": "2022-05-10T09:13:46.179891Z"
    }
   },
   "source": [
    "## Checking the Data types per column"
   ]
  },
  {
   "cell_type": "code",
   "execution_count": 14,
   "id": "16f2ed05",
   "metadata": {
    "ExecuteTime": {
     "end_time": "2022-05-10T15:25:20.677810Z",
     "start_time": "2022-05-10T15:25:20.654518Z"
    }
   },
   "outputs": [
    {
     "name": "stdout",
     "output_type": "stream",
     "text": [
      "<class 'pandas.core.frame.DataFrame'>\n",
      "RangeIndex: 4228 entries, 0 to 4227\n",
      "Data columns (total 11 columns):\n",
      " #   Column            Non-Null Count  Dtype  \n",
      "---  ------            --------------  -----  \n",
      " 0   danceability      200 non-null    float64\n",
      " 1   energy            200 non-null    float64\n",
      " 2   key               200 non-null    float64\n",
      " 3   loudness          200 non-null    float64\n",
      " 4   mode              200 non-null    float64\n",
      " 5   speechiness       200 non-null    float64\n",
      " 6   acousticness      200 non-null    float64\n",
      " 7   instrumentalness  200 non-null    float64\n",
      " 8   liveness          200 non-null    float64\n",
      " 9   valence           200 non-null    float64\n",
      " 10  tempo             200 non-null    float64\n",
      "dtypes: float64(11)\n",
      "memory usage: 363.5 KB\n"
     ]
    }
   ],
   "source": [
    "X_num.info()"
   ]
  },
  {
   "cell_type": "code",
   "execution_count": 15,
   "id": "9d076423",
   "metadata": {
    "ExecuteTime": {
     "end_time": "2022-05-10T15:25:20.707564Z",
     "start_time": "2022-05-10T15:25:20.680343Z"
    }
   },
   "outputs": [
    {
     "name": "stdout",
     "output_type": "stream",
     "text": [
      "<class 'pandas.core.frame.DataFrame'>\n",
      "RangeIndex: 4228 entries, 0 to 4227\n",
      "Data columns (total 2 columns):\n",
      " #   Column   Non-Null Count  Dtype \n",
      "---  ------   --------------  ----- \n",
      " 0   songs    4228 non-null   object\n",
      " 1   artists  4228 non-null   object\n",
      "dtypes: object(2)\n",
      "memory usage: 66.2+ KB\n"
     ]
    }
   ],
   "source": [
    "X_cat.info()"
   ]
  },
  {
   "cell_type": "markdown",
   "id": "3ce9dd8d",
   "metadata": {},
   "source": [
    "## Scaling the features"
   ]
  },
  {
   "cell_type": "code",
   "execution_count": 16,
   "id": "f426d71d",
   "metadata": {
    "ExecuteTime": {
     "end_time": "2022-05-10T15:25:20.792094Z",
     "start_time": "2022-05-10T15:25:20.713994Z"
    }
   },
   "outputs": [
    {
     "name": "stdout",
     "output_type": "stream",
     "text": [
      "Data before the transformation\n",
      "------------------------------\n"
     ]
    },
    {
     "data": {
      "text/html": [
       "<div>\n",
       "<style scoped>\n",
       "    .dataframe tbody tr th:only-of-type {\n",
       "        vertical-align: middle;\n",
       "    }\n",
       "\n",
       "    .dataframe tbody tr th {\n",
       "        vertical-align: top;\n",
       "    }\n",
       "\n",
       "    .dataframe thead th {\n",
       "        text-align: right;\n",
       "    }\n",
       "</style>\n",
       "<table border=\"1\" class=\"dataframe\">\n",
       "  <thead>\n",
       "    <tr style=\"text-align: right;\">\n",
       "      <th></th>\n",
       "      <th>danceability</th>\n",
       "      <th>energy</th>\n",
       "      <th>key</th>\n",
       "      <th>loudness</th>\n",
       "      <th>mode</th>\n",
       "      <th>speechiness</th>\n",
       "      <th>acousticness</th>\n",
       "      <th>instrumentalness</th>\n",
       "      <th>liveness</th>\n",
       "      <th>valence</th>\n",
       "      <th>tempo</th>\n",
       "    </tr>\n",
       "  </thead>\n",
       "  <tbody>\n",
       "    <tr>\n",
       "      <th>0</th>\n",
       "      <td>0.463</td>\n",
       "      <td>0.642</td>\n",
       "      <td>1.0</td>\n",
       "      <td>-4.474</td>\n",
       "      <td>1.0</td>\n",
       "      <td>0.3400</td>\n",
       "      <td>0.3140</td>\n",
       "      <td>0.000000</td>\n",
       "      <td>0.0686</td>\n",
       "      <td>0.339</td>\n",
       "      <td>83.389</td>\n",
       "    </tr>\n",
       "    <tr>\n",
       "      <th>1</th>\n",
       "      <td>0.520</td>\n",
       "      <td>0.731</td>\n",
       "      <td>6.0</td>\n",
       "      <td>-5.338</td>\n",
       "      <td>0.0</td>\n",
       "      <td>0.0557</td>\n",
       "      <td>0.3420</td>\n",
       "      <td>0.001010</td>\n",
       "      <td>0.3110</td>\n",
       "      <td>0.662</td>\n",
       "      <td>173.930</td>\n",
       "    </tr>\n",
       "    <tr>\n",
       "      <th>2</th>\n",
       "      <td>0.905</td>\n",
       "      <td>0.563</td>\n",
       "      <td>8.0</td>\n",
       "      <td>-6.135</td>\n",
       "      <td>1.0</td>\n",
       "      <td>0.1020</td>\n",
       "      <td>0.0254</td>\n",
       "      <td>0.000010</td>\n",
       "      <td>0.1130</td>\n",
       "      <td>0.324</td>\n",
       "      <td>106.998</td>\n",
       "    </tr>\n",
       "    <tr>\n",
       "      <th>3</th>\n",
       "      <td>0.883</td>\n",
       "      <td>0.657</td>\n",
       "      <td>8.0</td>\n",
       "      <td>-5.748</td>\n",
       "      <td>1.0</td>\n",
       "      <td>0.3050</td>\n",
       "      <td>0.0603</td>\n",
       "      <td>0.000000</td>\n",
       "      <td>0.1280</td>\n",
       "      <td>0.284</td>\n",
       "      <td>124.992</td>\n",
       "    </tr>\n",
       "    <tr>\n",
       "      <th>4</th>\n",
       "      <td>0.761</td>\n",
       "      <td>0.525</td>\n",
       "      <td>11.0</td>\n",
       "      <td>-6.900</td>\n",
       "      <td>1.0</td>\n",
       "      <td>0.0944</td>\n",
       "      <td>0.4400</td>\n",
       "      <td>0.000007</td>\n",
       "      <td>0.0921</td>\n",
       "      <td>0.531</td>\n",
       "      <td>80.870</td>\n",
       "    </tr>\n",
       "  </tbody>\n",
       "</table>\n",
       "</div>"
      ],
      "text/plain": [
       "   danceability  energy   key  loudness  mode  speechiness  acousticness  \\\n",
       "0         0.463   0.642   1.0    -4.474   1.0       0.3400        0.3140   \n",
       "1         0.520   0.731   6.0    -5.338   0.0       0.0557        0.3420   \n",
       "2         0.905   0.563   8.0    -6.135   1.0       0.1020        0.0254   \n",
       "3         0.883   0.657   8.0    -5.748   1.0       0.3050        0.0603   \n",
       "4         0.761   0.525  11.0    -6.900   1.0       0.0944        0.4400   \n",
       "\n",
       "   instrumentalness  liveness  valence    tempo  \n",
       "0          0.000000    0.0686    0.339   83.389  \n",
       "1          0.001010    0.3110    0.662  173.930  \n",
       "2          0.000010    0.1130    0.324  106.998  \n",
       "3          0.000000    0.1280    0.284  124.992  \n",
       "4          0.000007    0.0921    0.531   80.870  "
      ]
     },
     "metadata": {},
     "output_type": "display_data"
    },
    {
     "name": "stdout",
     "output_type": "stream",
     "text": [
      "\n",
      "Data after the transformation\n",
      "------------------------------\n"
     ]
    },
    {
     "data": {
      "text/html": [
       "<div>\n",
       "<style scoped>\n",
       "    .dataframe tbody tr th:only-of-type {\n",
       "        vertical-align: middle;\n",
       "    }\n",
       "\n",
       "    .dataframe tbody tr th {\n",
       "        vertical-align: top;\n",
       "    }\n",
       "\n",
       "    .dataframe thead th {\n",
       "        text-align: right;\n",
       "    }\n",
       "</style>\n",
       "<table border=\"1\" class=\"dataframe\">\n",
       "  <thead>\n",
       "    <tr style=\"text-align: right;\">\n",
       "      <th></th>\n",
       "      <th>danceability</th>\n",
       "      <th>energy</th>\n",
       "      <th>key</th>\n",
       "      <th>loudness</th>\n",
       "      <th>mode</th>\n",
       "      <th>speechiness</th>\n",
       "      <th>acousticness</th>\n",
       "      <th>instrumentalness</th>\n",
       "      <th>liveness</th>\n",
       "      <th>valence</th>\n",
       "      <th>tempo</th>\n",
       "    </tr>\n",
       "  </thead>\n",
       "  <tbody>\n",
       "    <tr>\n",
       "      <th>0</th>\n",
       "      <td>-1.585980</td>\n",
       "      <td>0.068788</td>\n",
       "      <td>-1.156007</td>\n",
       "      <td>0.956141</td>\n",
       "      <td>0.799590</td>\n",
       "      <td>1.501557</td>\n",
       "      <td>0.701780</td>\n",
       "      <td>-0.241779</td>\n",
       "      <td>-0.857198</td>\n",
       "      <td>-0.693443</td>\n",
       "      <td>-1.184862</td>\n",
       "    </tr>\n",
       "    <tr>\n",
       "      <th>1</th>\n",
       "      <td>-1.177056</td>\n",
       "      <td>0.688434</td>\n",
       "      <td>0.311007</td>\n",
       "      <td>0.483034</td>\n",
       "      <td>-1.250641</td>\n",
       "      <td>-0.686009</td>\n",
       "      <td>0.847332</td>\n",
       "      <td>0.509480</td>\n",
       "      <td>1.388129</td>\n",
       "      <td>0.750392</td>\n",
       "      <td>1.454368</td>\n",
       "    </tr>\n",
       "    <tr>\n",
       "      <th>2</th>\n",
       "      <td>1.584975</td>\n",
       "      <td>-0.481235</td>\n",
       "      <td>0.897812</td>\n",
       "      <td>0.046615</td>\n",
       "      <td>0.799590</td>\n",
       "      <td>-0.329751</td>\n",
       "      <td>-0.798444</td>\n",
       "      <td>-0.234556</td>\n",
       "      <td>-0.445925</td>\n",
       "      <td>-0.760495</td>\n",
       "      <td>-0.496670</td>\n",
       "    </tr>\n",
       "    <tr>\n",
       "      <th>3</th>\n",
       "      <td>1.427145</td>\n",
       "      <td>0.173222</td>\n",
       "      <td>0.897812</td>\n",
       "      <td>0.258528</td>\n",
       "      <td>0.799590</td>\n",
       "      <td>1.232247</td>\n",
       "      <td>-0.617024</td>\n",
       "      <td>-0.241779</td>\n",
       "      <td>-0.306982</td>\n",
       "      <td>-0.939298</td>\n",
       "      <td>0.027847</td>\n",
       "    </tr>\n",
       "    <tr>\n",
       "      <th>4</th>\n",
       "      <td>0.551904</td>\n",
       "      <td>-0.745803</td>\n",
       "      <td>1.778021</td>\n",
       "      <td>-0.372281</td>\n",
       "      <td>0.799590</td>\n",
       "      <td>-0.388229</td>\n",
       "      <td>1.356763</td>\n",
       "      <td>-0.236795</td>\n",
       "      <td>-0.639520</td>\n",
       "      <td>0.164812</td>\n",
       "      <td>-1.258290</td>\n",
       "    </tr>\n",
       "  </tbody>\n",
       "</table>\n",
       "</div>"
      ],
      "text/plain": [
       "   danceability    energy       key  loudness      mode  speechiness  \\\n",
       "0     -1.585980  0.068788 -1.156007  0.956141  0.799590     1.501557   \n",
       "1     -1.177056  0.688434  0.311007  0.483034 -1.250641    -0.686009   \n",
       "2      1.584975 -0.481235  0.897812  0.046615  0.799590    -0.329751   \n",
       "3      1.427145  0.173222  0.897812  0.258528  0.799590     1.232247   \n",
       "4      0.551904 -0.745803  1.778021 -0.372281  0.799590    -0.388229   \n",
       "\n",
       "   acousticness  instrumentalness  liveness   valence     tempo  \n",
       "0      0.701780         -0.241779 -0.857198 -0.693443 -1.184862  \n",
       "1      0.847332          0.509480  1.388129  0.750392  1.454368  \n",
       "2     -0.798444         -0.234556 -0.445925 -0.760495 -0.496670  \n",
       "3     -0.617024         -0.241779 -0.306982 -0.939298  0.027847  \n",
       "4      1.356763         -0.236795 -0.639520  0.164812 -1.258290  "
      ]
     },
     "metadata": {},
     "output_type": "display_data"
    }
   ],
   "source": [
    "scaler = StandardScaler()\n",
    "scaler.fit(X_num)#We will not use all the X, only the numerical features, select the appropriate num features\n",
    "X_scaled = scaler.transform(X_num)\n",
    "filename = \"/Users/Hector_Martin/Documents/Labs/music_recommender_project/scalers/standardscaler.pickle\" # Path with filename\n",
    "with open(filename, \"wb\") as file:\n",
    "        pickle.dump(scaler,file)\n",
    "X_scaled_df = pd.DataFrame(X_scaled, columns = X_num.columns)\n",
    "print('Data before the transformation')\n",
    "print('------------------------------')\n",
    "display(X_num.head())#data before the transformation\n",
    "print()\n",
    "print('Data after the transformation')\n",
    "print('------------------------------')\n",
    "display(X_scaled_df.head())#data after the transformation"
   ]
  },
  {
   "cell_type": "markdown",
   "id": "1d72d5ea",
   "metadata": {},
   "source": [
    "## Training Models with different K values to assess which offers the best performance:"
   ]
  },
  {
   "cell_type": "code",
   "execution_count": 22,
   "id": "6c0ff1e3",
   "metadata": {
    "ExecuteTime": {
     "end_time": "2022-05-10T15:34:44.266693Z",
     "start_time": "2022-05-10T15:34:44.239439Z"
    }
   },
   "outputs": [],
   "source": [
    "def k_means_trainer(df):\n",
    "    \n",
    "    '''\n",
    "    The formula trains several models and plots their performance using the Silhouette and the Elbow method.\n",
    "    All models are stored in a pickle file.\n",
    "    '''\n",
    "    \n",
    "    #We start with 2 because we need at least 2 groups to compare \n",
    "    #From 2 to 21 because we want to compare the performance of our models with up to 20 songs\n",
    "    \n",
    "    K = range(2, 21)\n",
    "    inertia = [] #Store the inertia value of every model\n",
    "    silhouette = [] #Store the silhouette score of every model\n",
    "\n",
    "    for k in K:\n",
    "        print(\"Training a K-Means model with {} neighbours! \".format(k))\n",
    "        print()\n",
    "        kmeans = KMeans(n_clusters=k,\n",
    "                        n_init = 10, #Train 10 models, the function will store only 1 as a pickle file.\n",
    "                        random_state=1234,\n",
    "                        verbose =1) #Display progress messages\n",
    "        kmeans.fit(df)\n",
    "        filename = \"/Users/Hector_Martin/Documents/Labs/music_recommender_project/models/kmeans_\" + str(k) + \".pickle\"\n",
    "        with open(filename, \"wb\") as file:\n",
    "            pickle.dump(kmeans,file)\n",
    "        inertia.append(kmeans.inertia_)\n",
    "        silhouette.append(silhouette_score(df, kmeans.predict(df)))\n",
    "\n",
    "\n",
    "    import numpy as np\n",
    "    import matplotlib.pyplot as plt\n",
    "    %matplotlib inline\n",
    "\n",
    "    #Elbow Method:\n",
    "    fig, ax = plt.subplots(1,2,figsize=(16,8))\n",
    "    ax[0].plot(K, inertia, 'bx-')\n",
    "    ax[0].set_xlabel('k')\n",
    "    ax[0].set_ylabel('inertia')\n",
    "    ax[0].set_xticks(np.arange(min(K), max(K)+1, 1.0))\n",
    "    ax[0].set_title('Elbow Method showing the optimal k')\n",
    "\n",
    "    #Silhouette Method:\n",
    "    ax[1].plot(K, silhouette, 'bx-')\n",
    "    ax[1].set_xlabel('k')\n",
    "    ax[1].set_ylabel('silhouette score')\n",
    "    ax[1].set_xticks(np.arange(min(K), max(K)+1, 1.0))\n",
    "    ax[1].set_title('Silhouette Method showing the optimal k')"
   ]
  },
  {
   "cell_type": "code",
   "execution_count": 21,
   "id": "a5f0bc9c",
   "metadata": {
    "ExecuteTime": {
     "end_time": "2022-05-10T15:32:01.556745Z",
     "start_time": "2022-05-10T15:32:01.438813Z"
    }
   },
   "outputs": [
    {
     "name": "stdout",
     "output_type": "stream",
     "text": [
      "Training a K-Means model with 2 neighbours! \n",
      "\n"
     ]
    },
    {
     "ename": "ValueError",
     "evalue": "Input contains NaN, infinity or a value too large for dtype('float64').",
     "output_type": "error",
     "traceback": [
      "\u001b[0;31m---------------------------------------------------------------------------\u001b[0m",
      "\u001b[0;31mValueError\u001b[0m                                Traceback (most recent call last)",
      "Input \u001b[0;32mIn [21]\u001b[0m, in \u001b[0;36m<cell line: 1>\u001b[0;34m()\u001b[0m\n\u001b[0;32m----> 1\u001b[0m \u001b[43mk_means_trainer\u001b[49m\u001b[43m(\u001b[49m\u001b[43mX_scaled_df\u001b[49m\u001b[43m)\u001b[49m\n",
      "Input \u001b[0;32mIn [20]\u001b[0m, in \u001b[0;36mk_means_trainer\u001b[0;34m(df)\u001b[0m\n\u001b[1;32m     11\u001b[0m \u001b[38;5;28mprint\u001b[39m()\n\u001b[1;32m     12\u001b[0m kmeans \u001b[38;5;241m=\u001b[39m KMeans(n_clusters\u001b[38;5;241m=\u001b[39mk,\n\u001b[1;32m     13\u001b[0m                 n_init \u001b[38;5;241m=\u001b[39m \u001b[38;5;241m10\u001b[39m, \u001b[38;5;66;03m#Train 10 models, the function will store only 1 as a pickle file.\u001b[39;00m\n\u001b[1;32m     14\u001b[0m                 random_state\u001b[38;5;241m=\u001b[39m\u001b[38;5;241m1234\u001b[39m,\n\u001b[1;32m     15\u001b[0m                 verbose \u001b[38;5;241m=\u001b[39m\u001b[38;5;241m1\u001b[39m) \u001b[38;5;66;03m#Display progress messages\u001b[39;00m\n\u001b[0;32m---> 16\u001b[0m \u001b[43mkmeans\u001b[49m\u001b[38;5;241;43m.\u001b[39;49m\u001b[43mfit\u001b[49m\u001b[43m(\u001b[49m\u001b[43mdf\u001b[49m\u001b[43m)\u001b[49m\n\u001b[1;32m     17\u001b[0m filename \u001b[38;5;241m=\u001b[39m \u001b[38;5;124m\"\u001b[39m\u001b[38;5;124m/Users/Hector_Martin/Documents/Labs/music_recommender_project/models/kmeans_\u001b[39m\u001b[38;5;124m\"\u001b[39m \u001b[38;5;241m+\u001b[39m \u001b[38;5;28mstr\u001b[39m(k) \u001b[38;5;241m+\u001b[39m \u001b[38;5;124m\"\u001b[39m\u001b[38;5;124m.pickle\u001b[39m\u001b[38;5;124m\"\u001b[39m\n\u001b[1;32m     18\u001b[0m \u001b[38;5;28;01mwith\u001b[39;00m \u001b[38;5;28mopen\u001b[39m(filename, \u001b[38;5;124m\"\u001b[39m\u001b[38;5;124mwb\u001b[39m\u001b[38;5;124m\"\u001b[39m) \u001b[38;5;28;01mas\u001b[39;00m file:\n",
      "File \u001b[0;32m/opt/anaconda3/envs/song_rec/lib/python3.9/site-packages/sklearn/cluster/_kmeans.py:1137\u001b[0m, in \u001b[0;36mKMeans.fit\u001b[0;34m(self, X, y, sample_weight)\u001b[0m\n\u001b[1;32m   1111\u001b[0m \u001b[38;5;28;01mdef\u001b[39;00m \u001b[38;5;21mfit\u001b[39m(\u001b[38;5;28mself\u001b[39m, X, y\u001b[38;5;241m=\u001b[39m\u001b[38;5;28;01mNone\u001b[39;00m, sample_weight\u001b[38;5;241m=\u001b[39m\u001b[38;5;28;01mNone\u001b[39;00m):\n\u001b[1;32m   1112\u001b[0m     \u001b[38;5;124;03m\"\"\"Compute k-means clustering.\u001b[39;00m\n\u001b[1;32m   1113\u001b[0m \n\u001b[1;32m   1114\u001b[0m \u001b[38;5;124;03m    Parameters\u001b[39;00m\n\u001b[0;32m   (...)\u001b[0m\n\u001b[1;32m   1135\u001b[0m \u001b[38;5;124;03m        Fitted estimator.\u001b[39;00m\n\u001b[1;32m   1136\u001b[0m \u001b[38;5;124;03m    \"\"\"\u001b[39;00m\n\u001b[0;32m-> 1137\u001b[0m     X \u001b[38;5;241m=\u001b[39m \u001b[38;5;28;43mself\u001b[39;49m\u001b[38;5;241;43m.\u001b[39;49m\u001b[43m_validate_data\u001b[49m\u001b[43m(\u001b[49m\n\u001b[1;32m   1138\u001b[0m \u001b[43m        \u001b[49m\u001b[43mX\u001b[49m\u001b[43m,\u001b[49m\n\u001b[1;32m   1139\u001b[0m \u001b[43m        \u001b[49m\u001b[43maccept_sparse\u001b[49m\u001b[38;5;241;43m=\u001b[39;49m\u001b[38;5;124;43m\"\u001b[39;49m\u001b[38;5;124;43mcsr\u001b[39;49m\u001b[38;5;124;43m\"\u001b[39;49m\u001b[43m,\u001b[49m\n\u001b[1;32m   1140\u001b[0m \u001b[43m        \u001b[49m\u001b[43mdtype\u001b[49m\u001b[38;5;241;43m=\u001b[39;49m\u001b[43m[\u001b[49m\u001b[43mnp\u001b[49m\u001b[38;5;241;43m.\u001b[39;49m\u001b[43mfloat64\u001b[49m\u001b[43m,\u001b[49m\u001b[43m \u001b[49m\u001b[43mnp\u001b[49m\u001b[38;5;241;43m.\u001b[39;49m\u001b[43mfloat32\u001b[49m\u001b[43m]\u001b[49m\u001b[43m,\u001b[49m\n\u001b[1;32m   1141\u001b[0m \u001b[43m        \u001b[49m\u001b[43morder\u001b[49m\u001b[38;5;241;43m=\u001b[39;49m\u001b[38;5;124;43m\"\u001b[39;49m\u001b[38;5;124;43mC\u001b[39;49m\u001b[38;5;124;43m\"\u001b[39;49m\u001b[43m,\u001b[49m\n\u001b[1;32m   1142\u001b[0m \u001b[43m        \u001b[49m\u001b[43mcopy\u001b[49m\u001b[38;5;241;43m=\u001b[39;49m\u001b[38;5;28;43mself\u001b[39;49m\u001b[38;5;241;43m.\u001b[39;49m\u001b[43mcopy_x\u001b[49m\u001b[43m,\u001b[49m\n\u001b[1;32m   1143\u001b[0m \u001b[43m        \u001b[49m\u001b[43maccept_large_sparse\u001b[49m\u001b[38;5;241;43m=\u001b[39;49m\u001b[38;5;28;43;01mFalse\u001b[39;49;00m\u001b[43m,\u001b[49m\n\u001b[1;32m   1144\u001b[0m \u001b[43m    \u001b[49m\u001b[43m)\u001b[49m\n\u001b[1;32m   1146\u001b[0m     \u001b[38;5;28mself\u001b[39m\u001b[38;5;241m.\u001b[39m_check_params(X)\n\u001b[1;32m   1147\u001b[0m     random_state \u001b[38;5;241m=\u001b[39m check_random_state(\u001b[38;5;28mself\u001b[39m\u001b[38;5;241m.\u001b[39mrandom_state)\n",
      "File \u001b[0;32m/opt/anaconda3/envs/song_rec/lib/python3.9/site-packages/sklearn/base.py:566\u001b[0m, in \u001b[0;36mBaseEstimator._validate_data\u001b[0;34m(self, X, y, reset, validate_separately, **check_params)\u001b[0m\n\u001b[1;32m    564\u001b[0m     \u001b[38;5;28;01mraise\u001b[39;00m \u001b[38;5;167;01mValueError\u001b[39;00m(\u001b[38;5;124m\"\u001b[39m\u001b[38;5;124mValidation should be done on X, y or both.\u001b[39m\u001b[38;5;124m\"\u001b[39m)\n\u001b[1;32m    565\u001b[0m \u001b[38;5;28;01melif\u001b[39;00m \u001b[38;5;129;01mnot\u001b[39;00m no_val_X \u001b[38;5;129;01mand\u001b[39;00m no_val_y:\n\u001b[0;32m--> 566\u001b[0m     X \u001b[38;5;241m=\u001b[39m \u001b[43mcheck_array\u001b[49m\u001b[43m(\u001b[49m\u001b[43mX\u001b[49m\u001b[43m,\u001b[49m\u001b[43m \u001b[49m\u001b[38;5;241;43m*\u001b[39;49m\u001b[38;5;241;43m*\u001b[39;49m\u001b[43mcheck_params\u001b[49m\u001b[43m)\u001b[49m\n\u001b[1;32m    567\u001b[0m     out \u001b[38;5;241m=\u001b[39m X\n\u001b[1;32m    568\u001b[0m \u001b[38;5;28;01melif\u001b[39;00m no_val_X \u001b[38;5;129;01mand\u001b[39;00m \u001b[38;5;129;01mnot\u001b[39;00m no_val_y:\n",
      "File \u001b[0;32m/opt/anaconda3/envs/song_rec/lib/python3.9/site-packages/sklearn/utils/validation.py:800\u001b[0m, in \u001b[0;36mcheck_array\u001b[0;34m(array, accept_sparse, accept_large_sparse, dtype, order, copy, force_all_finite, ensure_2d, allow_nd, ensure_min_samples, ensure_min_features, estimator)\u001b[0m\n\u001b[1;32m    794\u001b[0m         \u001b[38;5;28;01mraise\u001b[39;00m \u001b[38;5;167;01mValueError\u001b[39;00m(\n\u001b[1;32m    795\u001b[0m             \u001b[38;5;124m\"\u001b[39m\u001b[38;5;124mFound array with dim \u001b[39m\u001b[38;5;132;01m%d\u001b[39;00m\u001b[38;5;124m. \u001b[39m\u001b[38;5;132;01m%s\u001b[39;00m\u001b[38;5;124m expected <= 2.\u001b[39m\u001b[38;5;124m\"\u001b[39m\n\u001b[1;32m    796\u001b[0m             \u001b[38;5;241m%\u001b[39m (array\u001b[38;5;241m.\u001b[39mndim, estimator_name)\n\u001b[1;32m    797\u001b[0m         )\n\u001b[1;32m    799\u001b[0m     \u001b[38;5;28;01mif\u001b[39;00m force_all_finite:\n\u001b[0;32m--> 800\u001b[0m         \u001b[43m_assert_all_finite\u001b[49m\u001b[43m(\u001b[49m\u001b[43marray\u001b[49m\u001b[43m,\u001b[49m\u001b[43m \u001b[49m\u001b[43mallow_nan\u001b[49m\u001b[38;5;241;43m=\u001b[39;49m\u001b[43mforce_all_finite\u001b[49m\u001b[43m \u001b[49m\u001b[38;5;241;43m==\u001b[39;49m\u001b[43m \u001b[49m\u001b[38;5;124;43m\"\u001b[39;49m\u001b[38;5;124;43mallow-nan\u001b[39;49m\u001b[38;5;124;43m\"\u001b[39;49m\u001b[43m)\u001b[49m\n\u001b[1;32m    802\u001b[0m \u001b[38;5;28;01mif\u001b[39;00m ensure_min_samples \u001b[38;5;241m>\u001b[39m \u001b[38;5;241m0\u001b[39m:\n\u001b[1;32m    803\u001b[0m     n_samples \u001b[38;5;241m=\u001b[39m _num_samples(array)\n",
      "File \u001b[0;32m/opt/anaconda3/envs/song_rec/lib/python3.9/site-packages/sklearn/utils/validation.py:114\u001b[0m, in \u001b[0;36m_assert_all_finite\u001b[0;34m(X, allow_nan, msg_dtype)\u001b[0m\n\u001b[1;32m    107\u001b[0m     \u001b[38;5;28;01mif\u001b[39;00m (\n\u001b[1;32m    108\u001b[0m         allow_nan\n\u001b[1;32m    109\u001b[0m         \u001b[38;5;129;01mand\u001b[39;00m np\u001b[38;5;241m.\u001b[39misinf(X)\u001b[38;5;241m.\u001b[39many()\n\u001b[1;32m    110\u001b[0m         \u001b[38;5;129;01mor\u001b[39;00m \u001b[38;5;129;01mnot\u001b[39;00m allow_nan\n\u001b[1;32m    111\u001b[0m         \u001b[38;5;129;01mand\u001b[39;00m \u001b[38;5;129;01mnot\u001b[39;00m np\u001b[38;5;241m.\u001b[39misfinite(X)\u001b[38;5;241m.\u001b[39mall()\n\u001b[1;32m    112\u001b[0m     ):\n\u001b[1;32m    113\u001b[0m         type_err \u001b[38;5;241m=\u001b[39m \u001b[38;5;124m\"\u001b[39m\u001b[38;5;124minfinity\u001b[39m\u001b[38;5;124m\"\u001b[39m \u001b[38;5;28;01mif\u001b[39;00m allow_nan \u001b[38;5;28;01melse\u001b[39;00m \u001b[38;5;124m\"\u001b[39m\u001b[38;5;124mNaN, infinity\u001b[39m\u001b[38;5;124m\"\u001b[39m\n\u001b[0;32m--> 114\u001b[0m         \u001b[38;5;28;01mraise\u001b[39;00m \u001b[38;5;167;01mValueError\u001b[39;00m(\n\u001b[1;32m    115\u001b[0m             msg_err\u001b[38;5;241m.\u001b[39mformat(\n\u001b[1;32m    116\u001b[0m                 type_err, msg_dtype \u001b[38;5;28;01mif\u001b[39;00m msg_dtype \u001b[38;5;129;01mis\u001b[39;00m \u001b[38;5;129;01mnot\u001b[39;00m \u001b[38;5;28;01mNone\u001b[39;00m \u001b[38;5;28;01melse\u001b[39;00m X\u001b[38;5;241m.\u001b[39mdtype\n\u001b[1;32m    117\u001b[0m             )\n\u001b[1;32m    118\u001b[0m         )\n\u001b[1;32m    119\u001b[0m \u001b[38;5;66;03m# for object dtype data, we only check for NaNs (GH-13254)\u001b[39;00m\n\u001b[1;32m    120\u001b[0m \u001b[38;5;28;01melif\u001b[39;00m X\u001b[38;5;241m.\u001b[39mdtype \u001b[38;5;241m==\u001b[39m np\u001b[38;5;241m.\u001b[39mdtype(\u001b[38;5;124m\"\u001b[39m\u001b[38;5;124mobject\u001b[39m\u001b[38;5;124m\"\u001b[39m) \u001b[38;5;129;01mand\u001b[39;00m \u001b[38;5;129;01mnot\u001b[39;00m allow_nan:\n",
      "\u001b[0;31mValueError\u001b[0m: Input contains NaN, infinity or a value too large for dtype('float64')."
     ]
    }
   ],
   "source": [
    "k_means_trainer(X_scaled_df)"
   ]
  },
  {
   "cell_type": "markdown",
   "id": "283dca0a",
   "metadata": {},
   "source": [
    "### Loading the scaler and the best model:"
   ]
  },
  {
   "cell_type": "code",
   "execution_count": null,
   "id": "4a2b6ff6",
   "metadata": {
    "ExecuteTime": {
     "end_time": "2022-05-10T15:25:21.639879Z",
     "start_time": "2022-05-10T15:25:21.639844Z"
    }
   },
   "outputs": [],
   "source": [
    "def load(filename = \"filename.pickle\"): #if I don't specify the name of the file it's going to be 'filename.pickle'\n",
    "    try: \n",
    "        with open(filename, \"rb\") as file: \n",
    "            return pickle.load(file) \n",
    "    except FileNotFoundError: \n",
    "        print(\"File not found!\") "
   ]
  },
  {
   "cell_type": "markdown",
   "id": "16e557a1",
   "metadata": {
    "ExecuteTime": {
     "end_time": "2022-05-10T09:22:46.541000Z",
     "start_time": "2022-05-10T09:22:46.536359Z"
    }
   },
   "source": [
    "#### Loading the scaler from a pickle file"
   ]
  },
  {
   "cell_type": "code",
   "execution_count": null,
   "id": "bcd61b4a",
   "metadata": {
    "ExecuteTime": {
     "end_time": "2022-05-10T15:25:21.642179Z",
     "start_time": "2022-05-10T15:25:21.642154Z"
    }
   },
   "outputs": [],
   "source": [
    "scaler = load(\"scalers/standardscaler.pickle\")\n",
    "scaler"
   ]
  },
  {
   "cell_type": "markdown",
   "id": "fab81a6f",
   "metadata": {},
   "source": [
    "#### Loading the best_model from a pickle file:\n",
    "Based on the Elbow method graphic we plotted, we can determine that the best model is the one with 8Ks."
   ]
  },
  {
   "cell_type": "code",
   "execution_count": null,
   "id": "80547839",
   "metadata": {
    "ExecuteTime": {
     "end_time": "2022-05-10T15:25:21.644399Z",
     "start_time": "2022-05-10T15:25:21.644374Z"
    }
   },
   "outputs": [],
   "source": [
    "best_model = load(\"models/kmeans_8.pickle\")"
   ]
  }
 ],
 "metadata": {
  "kernelspec": {
   "display_name": "Python 3 (ipykernel)",
   "language": "python",
   "name": "python3"
  },
  "language_info": {
   "codemirror_mode": {
    "name": "ipython",
    "version": 3
   },
   "file_extension": ".py",
   "mimetype": "text/x-python",
   "name": "python",
   "nbconvert_exporter": "python",
   "pygments_lexer": "ipython3",
   "version": "3.9.12"
  },
  "toc": {
   "base_numbering": 1,
   "nav_menu": {},
   "number_sections": true,
   "sideBar": true,
   "skip_h1_title": false,
   "title_cell": "Table of Contents",
   "title_sidebar": "Contents",
   "toc_cell": false,
   "toc_position": {},
   "toc_section_display": true,
   "toc_window_display": false
  }
 },
 "nbformat": 4,
 "nbformat_minor": 5
}
