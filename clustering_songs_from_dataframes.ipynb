{
 "cells": [
  {
   "cell_type": "markdown",
   "id": "e0246f1d",
   "metadata": {},
   "source": [
    "# Clustering the songs from dataframes"
   ]
  },
  {
   "cell_type": "markdown",
   "id": "184889ec",
   "metadata": {},
   "source": [
    "Now it's time to cluster the songs of the hot_songs and not_hot_songs databases according to the song's audio features. You will need to consider the following:\n",
    "\n",
    "- Are you going to use all the audio features? If not, which ones do you think to make more sense?\n",
    "- What is the optimal number of clusters (for methods that need to know this beforehand)?\n",
    "- What is the best distance to use?\n",
    "- What clustering method provides better results?\n",
    "- Does the clustering method need a transformer?\n",
    "\n",
    "Be aware that this process is extremely time-consuming!!! Therefore, when testing different options, save the models into your disk in order to be able to use the best model later.  You don't want to retrain the best model again when you know what are the optimal parameters for each.\n",
    "\n",
    "Add to the hot_songs and not_hot_songs databases a new column for each clustering method with the cluster membership of each song for each method."
   ]
  },
  {
   "cell_type": "markdown",
   "id": "def9af95",
   "metadata": {},
   "source": [
    "## Importing the libraries"
   ]
  },
  {
   "cell_type": "code",
   "execution_count": null,
   "id": "f9adc7f8",
   "metadata": {
    "ExecuteTime": {
     "end_time": "2022-05-10T15:25:20.517153Z",
     "start_time": "2022-05-10T15:25:18.371116Z"
    }
   },
   "outputs": [],
   "source": [
    "pip install sklearn"
   ]
  },
  {
   "cell_type": "code",
   "execution_count": null,
   "id": "80c8896f",
   "metadata": {
    "ExecuteTime": {
     "end_time": "2022-05-10T15:25:20.538526Z",
     "start_time": "2022-05-10T15:25:20.523332Z"
    }
   },
   "outputs": [],
   "source": [
    "import pandas as pd\n",
    "import numpy as np\n",
    "from sklearn.preprocessing import StandardScaler\n",
    "from sklearn.cluster import KMeans\n",
    "from sklearn.metrics import silhouette_score\n",
    "import pickle"
   ]
  },
  {
   "cell_type": "code",
   "execution_count": null,
   "id": "d96ab722",
   "metadata": {
    "ExecuteTime": {
     "end_time": "2022-05-10T15:25:20.570114Z",
     "start_time": "2022-05-10T15:25:20.541463Z"
    }
   },
   "outputs": [],
   "source": [
    "all_songs = pd.read_csv('data/allsongsconcat_df.csv')"
   ]
  },
  {
   "cell_type": "markdown",
   "id": "71ed92e7",
   "metadata": {},
   "source": [
    "## Removing all the unnecessary audio features:\n",
    "These are not actually audio features, just links and other kind of information that has nothing to do with audio qualities."
   ]
  },
  {
   "cell_type": "code",
   "execution_count": null,
   "id": "878323b0",
   "metadata": {
    "ExecuteTime": {
     "end_time": "2022-05-10T15:25:20.581430Z",
     "start_time": "2022-05-10T15:25:20.574096Z"
    }
   },
   "outputs": [],
   "source": [
    "all_songs_clean = all_songs.drop(['analysis_url', 'id', 'uri', 'track_href', 'analysis_url', 'duration_ms', 'time_signature', 'type'],axis =1)"
   ]
  },
  {
   "cell_type": "markdown",
   "id": "b006e6c3",
   "metadata": {},
   "source": [
    "## Store this cleaned Dataframe in a csv file:"
   ]
  },
  {
   "cell_type": "code",
   "execution_count": null,
   "id": "363f5f5c",
   "metadata": {
    "ExecuteTime": {
     "end_time": "2022-05-10T15:25:20.634672Z",
     "start_time": "2022-05-10T15:25:20.590511Z"
    }
   },
   "outputs": [],
   "source": [
    "all_songs_clean.to_csv(\"data/all_songs_clean.csv\", index=False)"
   ]
  },
  {
   "cell_type": "markdown",
   "id": "edec58f8",
   "metadata": {},
   "source": [
    "## Numerical and Categorical split:\n",
    "- X_num will be for Numerical columns\n",
    "- X_cat will be for Categorical ones"
   ]
  },
  {
   "cell_type": "code",
   "execution_count": null,
   "id": "480dca3e",
   "metadata": {
    "ExecuteTime": {
     "end_time": "2022-05-10T15:25:20.641795Z",
     "start_time": "2022-05-10T15:25:20.637086Z"
    }
   },
   "outputs": [],
   "source": [
    "X_num = all_songs_clean.drop(['songs', 'artists'], axis =1)"
   ]
  },
  {
   "cell_type": "code",
   "execution_count": null,
   "id": "c7424f58",
   "metadata": {
    "ExecuteTime": {
     "end_time": "2022-05-10T15:25:20.650752Z",
     "start_time": "2022-05-10T15:25:20.644748Z"
    }
   },
   "outputs": [],
   "source": [
    "X_cat = all_songs[['songs', 'artists']]"
   ]
  },
  {
   "cell_type": "markdown",
   "id": "48ed557a",
   "metadata": {
    "ExecuteTime": {
     "end_time": "2022-05-10T09:13:46.184390Z",
     "start_time": "2022-05-10T09:13:46.179891Z"
    }
   },
   "source": [
    "## Checking the Data types per column"
   ]
  },
  {
   "cell_type": "code",
   "execution_count": null,
   "id": "16f2ed05",
   "metadata": {
    "ExecuteTime": {
     "end_time": "2022-05-10T15:25:20.677810Z",
     "start_time": "2022-05-10T15:25:20.654518Z"
    }
   },
   "outputs": [],
   "source": [
    "X_num.info()"
   ]
  },
  {
   "cell_type": "code",
   "execution_count": null,
   "id": "9d076423",
   "metadata": {
    "ExecuteTime": {
     "end_time": "2022-05-10T15:25:20.707564Z",
     "start_time": "2022-05-10T15:25:20.680343Z"
    }
   },
   "outputs": [],
   "source": [
    "X_cat.info()"
   ]
  },
  {
   "cell_type": "markdown",
   "id": "3ce9dd8d",
   "metadata": {},
   "source": [
    "## Scaling the features"
   ]
  },
  {
   "cell_type": "code",
   "execution_count": null,
   "id": "f426d71d",
   "metadata": {
    "ExecuteTime": {
     "end_time": "2022-05-10T15:25:20.792094Z",
     "start_time": "2022-05-10T15:25:20.713994Z"
    }
   },
   "outputs": [],
   "source": [
    "scaler = StandardScaler()\n",
    "scaler.fit(X_num)#We will not use all the X, only the numerical features, select the appropriate num features\n",
    "X_scaled = scaler.transform(X_num)\n",
    "filename = \"/Users/Hector_Martin/Documents/Labs/music_recommender_project/scalers/standardscaler.pickle\" # Path with filename\n",
    "with open(filename, \"wb\") as file:\n",
    "        pickle.dump(scaler,file)\n",
    "X_scaled_df = pd.DataFrame(X_scaled, columns = X_num.columns)\n",
    "print('Data before the transformation')\n",
    "print('------------------------------')\n",
    "display(X_num.head())#data before the transformation\n",
    "print()\n",
    "print('Data after the transformation')\n",
    "print('------------------------------')\n",
    "display(X_scaled_df.head())#data after the transformation"
   ]
  },
  {
   "cell_type": "markdown",
   "id": "1d72d5ea",
   "metadata": {},
   "source": [
    "## Training Models with different K values to assess which offers the best performance:"
   ]
  },
  {
   "cell_type": "code",
   "execution_count": null,
   "id": "6c0ff1e3",
   "metadata": {
    "ExecuteTime": {
     "end_time": "2022-05-10T15:34:44.266693Z",
     "start_time": "2022-05-10T15:34:44.239439Z"
    }
   },
   "outputs": [],
   "source": [
    "def k_means_trainer(df):\n",
    "    \n",
    "    '''\n",
    "    The formula trains several models and plots their performance using the Silhouette and the Elbow method.\n",
    "    All models are stored in a pickle file.\n",
    "    '''\n",
    "    \n",
    "    #We start with 2 because we need at least 2 groups to compare \n",
    "    #From 2 to 21 because we want to compare the performance of our models with up to 20 songs\n",
    "    \n",
    "    K = range(2, 21)\n",
    "    inertia = [] #Store the inertia value of every model\n",
    "    silhouette = [] #Store the silhouette score of every model\n",
    "\n",
    "    for k in K:\n",
    "        print(\"Training a K-Means model with {} neighbours! \".format(k))\n",
    "        print()\n",
    "        kmeans = KMeans(n_clusters=k,\n",
    "                        n_init = 10, #Train 10 models, the function will store only 1 as a pickle file.\n",
    "                        random_state=1234,\n",
    "                        verbose =1) #Display progress messages\n",
    "        kmeans.fit(df)\n",
    "        filename = \"/Users/Hector_Martin/Documents/Labs/music_recommender_project/models/kmeans_\" + str(k) + \".pickle\"\n",
    "        with open(filename, \"wb\") as file:\n",
    "            pickle.dump(kmeans,file)\n",
    "        inertia.append(kmeans.inertia_)\n",
    "        silhouette.append(silhouette_score(df, kmeans.predict(df)))\n",
    "\n",
    "\n",
    "    import numpy as np\n",
    "    import matplotlib.pyplot as plt\n",
    "    %matplotlib inline\n",
    "\n",
    "    #Elbow Method:\n",
    "    fig, ax = plt.subplots(1,2,figsize=(16,8))\n",
    "    ax[0].plot(K, inertia, 'bx-')\n",
    "    ax[0].set_xlabel('k')\n",
    "    ax[0].set_ylabel('inertia')\n",
    "    ax[0].set_xticks(np.arange(min(K), max(K)+1, 1.0))\n",
    "    ax[0].set_title('Elbow Method showing the optimal k')\n",
    "\n",
    "    #Silhouette Method:\n",
    "    ax[1].plot(K, silhouette, 'bx-')\n",
    "    ax[1].set_xlabel('k')\n",
    "    ax[1].set_ylabel('silhouette score')\n",
    "    ax[1].set_xticks(np.arange(min(K), max(K)+1, 1.0))\n",
    "    ax[1].set_title('Silhouette Method showing the optimal k')"
   ]
  },
  {
   "cell_type": "code",
   "execution_count": null,
   "id": "a5f0bc9c",
   "metadata": {
    "ExecuteTime": {
     "end_time": "2022-05-10T15:32:01.556745Z",
     "start_time": "2022-05-10T15:32:01.438813Z"
    }
   },
   "outputs": [],
   "source": [
    "k_means_trainer(X_scaled_df)"
   ]
  },
  {
   "cell_type": "markdown",
   "id": "283dca0a",
   "metadata": {},
   "source": [
    "### Loading the scaler and the best model:"
   ]
  },
  {
   "cell_type": "code",
   "execution_count": null,
   "id": "4a2b6ff6",
   "metadata": {
    "ExecuteTime": {
     "end_time": "2022-05-10T15:25:21.639879Z",
     "start_time": "2022-05-10T15:25:21.639844Z"
    }
   },
   "outputs": [],
   "source": [
    "def load(filename = \"filename.pickle\"): #if I don't specify the name of the file it's going to be 'filename.pickle'\n",
    "    try: \n",
    "        with open(filename, \"rb\") as file: \n",
    "            return pickle.load(file) \n",
    "    except FileNotFoundError: \n",
    "        print(\"File not found!\") "
   ]
  },
  {
   "cell_type": "markdown",
   "id": "16e557a1",
   "metadata": {
    "ExecuteTime": {
     "end_time": "2022-05-10T09:22:46.541000Z",
     "start_time": "2022-05-10T09:22:46.536359Z"
    }
   },
   "source": [
    "#### Loading the scaler from a pickle file"
   ]
  },
  {
   "cell_type": "code",
   "execution_count": null,
   "id": "bcd61b4a",
   "metadata": {
    "ExecuteTime": {
     "end_time": "2022-05-10T15:25:21.642179Z",
     "start_time": "2022-05-10T15:25:21.642154Z"
    }
   },
   "outputs": [],
   "source": [
    "scaler = load(\"scalers/standardscaler.pickle\")\n",
    "scaler"
   ]
  },
  {
   "cell_type": "markdown",
   "id": "fab81a6f",
   "metadata": {},
   "source": [
    "#### Loading the best_model from a pickle file:\n",
    "Based on the Elbow method graphic we plotted, we can determine that the best model is the one with 8Ks."
   ]
  },
  {
   "cell_type": "code",
   "execution_count": null,
   "id": "80547839",
   "metadata": {
    "ExecuteTime": {
     "end_time": "2022-05-10T15:25:21.644399Z",
     "start_time": "2022-05-10T15:25:21.644374Z"
    }
   },
   "outputs": [],
   "source": [
    "best_model = load(\"models/kmeans_8.pickle\")"
   ]
  }
 ],
 "metadata": {
  "kernelspec": {
   "display_name": "Python 3 (ipykernel)",
   "language": "python",
   "name": "python3"
  },
  "language_info": {
   "codemirror_mode": {
    "name": "ipython",
    "version": 3
   },
   "file_extension": ".py",
   "mimetype": "text/x-python",
   "name": "python",
   "nbconvert_exporter": "python",
   "pygments_lexer": "ipython3",
   "version": "3.9.12"
  },
  "toc": {
   "base_numbering": 1,
   "nav_menu": {},
   "number_sections": true,
   "sideBar": true,
   "skip_h1_title": false,
   "title_cell": "Table of Contents",
   "title_sidebar": "Contents",
   "toc_cell": false,
   "toc_position": {},
   "toc_section_display": true,
   "toc_window_display": false
  }
 },
 "nbformat": 4,
 "nbformat_minor": 5
}
